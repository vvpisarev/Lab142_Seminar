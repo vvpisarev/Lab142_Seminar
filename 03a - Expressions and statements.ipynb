{
 "cells": [
  {
   "cell_type": "markdown",
   "id": "f37b37c1",
   "metadata": {},
   "source": [
    "# Выражения (expressions) и инструкции (statements)\n",
    "\n",
    "**Выражение** - синтаксически законченная часть программы, имеющая *результат* (примерно соответствует функциям в Паскале)\n",
    "\n",
    "**Инструкция** - синтаксически законченная часть программы, цель которой - выполнение действий (примерно соответствует процедурам в Паскале)\n",
    "\n",
    "Примеры выражений в Python:"
   ]
  },
  {
   "cell_type": "code",
   "execution_count": 1,
   "id": "65990f3d",
   "metadata": {},
   "outputs": [
    {
     "data": {
      "text/plain": [
       "42"
      ]
     },
     "execution_count": 1,
     "metadata": {},
     "output_type": "execute_result"
    }
   ],
   "source": [
    "# Литерал\n",
    "42"
   ]
  },
  {
   "cell_type": "code",
   "execution_count": 2,
   "id": "ddbd766f",
   "metadata": {},
   "outputs": [
    {
     "data": {
      "text/plain": [
       "[22, 33]"
      ]
     },
     "execution_count": 2,
     "metadata": {},
     "output_type": "execute_result"
    }
   ],
   "source": [
    "# Арифметическое выражение\n",
    "[22] + [33]"
   ]
  },
  {
   "cell_type": "code",
   "execution_count": 3,
   "id": "19aa1144",
   "metadata": {},
   "outputs": [
    {
     "data": {
      "text/plain": [
       "3"
      ]
     },
     "execution_count": 3,
     "metadata": {},
     "output_type": "execute_result"
    }
   ],
   "source": [
    "# Вызов функции\n",
    "len([2, 3, 4])"
   ]
  },
  {
   "cell_type": "markdown",
   "id": "a2137cc1",
   "metadata": {},
   "source": [
    "Примеры инструкций:"
   ]
  },
  {
   "cell_type": "code",
   "execution_count": 8,
   "id": "291db7da",
   "metadata": {},
   "outputs": [],
   "source": [
    "# Связывание\n",
    "x = 10"
   ]
  },
  {
   "cell_type": "code",
   "execution_count": 5,
   "id": "d2aac37d",
   "metadata": {},
   "outputs": [],
   "source": [
    "# Условное выражение\n",
    "if x > 5:\n",
    "    y = x\n",
    "else:\n",
    "    y = x + 5"
   ]
  },
  {
   "cell_type": "code",
   "execution_count": 6,
   "id": "8e3669fe",
   "metadata": {},
   "outputs": [],
   "source": [
    "# Определение функции\n",
    "def foo(x):\n",
    "    return x**2 + 10"
   ]
  },
  {
   "cell_type": "markdown",
   "id": "091a905a",
   "metadata": {},
   "source": [
    "Инструкции не могут быть частью других выражений"
   ]
  },
  {
   "cell_type": "code",
   "execution_count": 7,
   "id": "ce3bbd2c",
   "metadata": {},
   "outputs": [
    {
     "ename": "SyntaxError",
     "evalue": "invalid syntax (1997635712.py, line 1)",
     "output_type": "error",
     "traceback": [
      "\u001b[0;36m  Input \u001b[0;32mIn [7]\u001b[0;36m\u001b[0m\n\u001b[0;31m    bar = def foo(x):\u001b[0m\n\u001b[0m          ^\u001b[0m\n\u001b[0;31mSyntaxError\u001b[0m\u001b[0;31m:\u001b[0m invalid syntax\n"
     ]
    }
   ],
   "source": [
    "bar = def foo(x):\n",
    "    return x**2 + 10"
   ]
  },
  {
   "cell_type": "code",
   "execution_count": 10,
   "id": "e7dbf6f2",
   "metadata": {},
   "outputs": [
    {
     "ename": "SyntaxError",
     "evalue": "invalid syntax (3373972635.py, line 1)",
     "output_type": "error",
     "traceback": [
      "\u001b[0;36m  Input \u001b[0;32mIn [10]\u001b[0;36m\u001b[0m\n\u001b[0;31m    z = (y *= x)\u001b[0m\n\u001b[0m           ^\u001b[0m\n\u001b[0;31mSyntaxError\u001b[0m\u001b[0;31m:\u001b[0m invalid syntax\n"
     ]
    }
   ],
   "source": [
    "z = (y *= x)"
   ]
  },
  {
   "cell_type": "markdown",
   "id": "bc65f8c2",
   "metadata": {},
   "source": [
    "```lisp\n",
    "(defun square (x)\n",
    "    (* x x))\n",
    "\n",
    "(setf y (square x))\n",
    "```"
   ]
  },
  {
   "cell_type": "code",
   "execution_count": 11,
   "id": "3577939a",
   "metadata": {},
   "outputs": [],
   "source": [
    "def fib(n):\n",
    "    if n == 0 or n == 1:\n",
    "        return 1\n",
    "    else:\n",
    "        return fib(n-1) + fib(n-2)"
   ]
  },
  {
   "cell_type": "code",
   "execution_count": 13,
   "id": "52028e93",
   "metadata": {},
   "outputs": [
    {
     "name": "stdout",
     "output_type": "stream",
     "text": [
      "3.41 ms ± 126 µs per loop (mean ± std. dev. of 7 runs, 100 loops each)\n"
     ]
    }
   ],
   "source": [
    "%timeit fib(20)"
   ]
  },
  {
   "cell_type": "code",
   "execution_count": 14,
   "id": "8f15804d",
   "metadata": {},
   "outputs": [
    {
     "name": "stdout",
     "output_type": "stream",
     "text": [
      "25.8 µs ± 1.21 µs per loop (mean ± std. dev. of 7 runs, 10,000 loops each)\n"
     ]
    }
   ],
   "source": [
    "%timeit sum(range(1000))"
   ]
  },
  {
   "cell_type": "code",
   "execution_count": 15,
   "id": "4bf28c3b",
   "metadata": {},
   "outputs": [
    {
     "name": "stdout",
     "output_type": "stream",
     "text": [
      "3.16 ms ± 75.7 µs per loop (mean ± std. dev. of 7 runs, 100 loops each)\n"
     ]
    }
   ],
   "source": [
    "%timeit sum(range(100_000))"
   ]
  },
  {
   "cell_type": "code",
   "execution_count": null,
   "id": "710a8fb4",
   "metadata": {},
   "outputs": [],
   "source": []
  }
 ],
 "metadata": {
  "kernelspec": {
   "display_name": "Python 3.8 (ipykernel)",
   "language": "python",
   "name": "python3.8"
  },
  "language_info": {
   "codemirror_mode": {
    "name": "ipython",
    "version": 3
   },
   "file_extension": ".py",
   "mimetype": "text/x-python",
   "name": "python",
   "nbconvert_exporter": "python",
   "pygments_lexer": "ipython3",
   "version": "3.8.12"
  }
 },
 "nbformat": 4,
 "nbformat_minor": 5
}
