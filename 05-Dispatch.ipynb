{
 "cells": [
  {
   "cell_type": "markdown",
   "id": "6665588b",
   "metadata": {},
   "source": [
    "# Диспетчеризация\n",
    "\n",
    "**Диспетчеризация** -- выбор реализации полиморфной функции для выполнения операции над заданными типами операндов.\n",
    "\n",
    "Иногда диспетчеризацию отличают от **перегрузки** -- ситуации, когда выбор производится на этапе компиляции.\n",
    "\n",
    "## Полиморфизм\n",
    "\n",
    "Под полиморфизмом понимается ситуация, когда один и тот же программный код соответствует различному машинному коду, в зависимости от контекста.\n",
    "\n",
    "**Пример 1**\n",
    "\n",
    "В Си полиморфизма практически нет, но арифметические операторы всё же полиморфные.\n",
    "\n",
    "Полиморфное поведение арифметических операторов имеет место практически во всех высокоуровневых ЯП."
   ]
  },
  {
   "cell_type": "code",
   "execution_count": 1,
   "id": "c133f50b",
   "metadata": {},
   "outputs": [
    {
     "name": "stdout",
     "output_type": "stream",
     "text": [
      "\t\u001b[0m.text\n",
      "\u001b[90m; ┌ @ int.jl:87 within `+`\u001b[39m\n",
      "\t\u001b[96m\u001b[1mleaq\u001b[22m\u001b[39m\t\u001b[33m(\u001b[39m\u001b[0m%rdi\u001b[0m,\u001b[0m%rsi\u001b[33m)\u001b[39m\u001b[0m, \u001b[0m%rax\n",
      "\t\u001b[96m\u001b[1mretq\u001b[22m\u001b[39m\n",
      "\t\u001b[96m\u001b[1mnopw\u001b[22m\u001b[39m\t\u001b[0m%cs\u001b[0m:\u001b[33m(\u001b[39m\u001b[0m%rax\u001b[0m,\u001b[0m%rax\u001b[33m)\u001b[39m\n",
      "\t\u001b[96m\u001b[1mnop\u001b[22m\u001b[39m\n",
      "\u001b[90m; └\u001b[39m\n"
     ]
    }
   ],
   "source": [
    "@code_native 2 + 4"
   ]
  },
  {
   "cell_type": "code",
   "execution_count": 2,
   "id": "f8b2ee49",
   "metadata": {},
   "outputs": [
    {
     "name": "stdout",
     "output_type": "stream",
     "text": [
      "\t\u001b[0m.text\n",
      "\u001b[90m; ┌ @ float.jl:399 within `+`\u001b[39m\n",
      "\t\u001b[96m\u001b[1mvaddsd\u001b[22m\u001b[39m\t\u001b[0m%xmm1\u001b[0m, \u001b[0m%xmm0\u001b[0m, \u001b[0m%xmm0\n",
      "\t\u001b[96m\u001b[1mretq\u001b[22m\u001b[39m\n",
      "\t\u001b[96m\u001b[1mnopw\u001b[22m\u001b[39m\t\u001b[0m%cs\u001b[0m:\u001b[33m(\u001b[39m\u001b[0m%rax\u001b[0m,\u001b[0m%rax\u001b[33m)\u001b[39m\n",
      "\t\u001b[96m\u001b[1mnop\u001b[22m\u001b[39m\n",
      "\u001b[90m; └\u001b[39m\n"
     ]
    }
   ],
   "source": [
    "@code_native 2.0 + 4.0"
   ]
  },
  {
   "cell_type": "markdown",
   "id": "ac831b10",
   "metadata": {},
   "source": [
    "Отсутствие полиморфизма ведёт к тому, что одинаковые по смыслу операции для разных типов данных нужно обозначать разными символами (именами): например, в Си `abs(n)` работает только с целыми числами, `fabs(x)` -- с числами в двойной точности.\n",
    "\n",
    "**Пример 2**\n",
    "\n",
    "В Python функция `len` -- полиморфна, аргументами могут быть объекты разнообразных типов -- кортежи, массивы, словари и т.д. Такое поведение, очевидно, упрощает написание более сложных функций, которые работают с разными типами данных.\n",
    "\n",
    "## Перегрузка функций\n",
    "\n",
    "C++, например, позволяет определить несколько функций с одним и тем же именем, работающих с разными типами данных. Функцию взятия модуля, например, можно определить так:\n",
    "```cpp\n",
    "struct complex\n",
    "{\n",
    "    double rpart;\n",
    "    double ipart;\n",
    "};\n",
    "\n",
    "int abs(int n)\n",
    "{\n",
    "    return (n > 0) ? n : (-n);\n",
    "}\n",
    "\n",
    "double abs(double x)\n",
    "{\n",
    "    return (x > 0) ? x : (-x);\n",
    "}\n",
    "\n",
    "complex abs(complex z)\n",
    "{\n",
    "    return sqrt(z.rpart * z.rpart + z.ipart * z.ipart);\n",
    "}\n",
    "```\n",
    "\n",
    "Перегрузка реализует *статический полиморфизм* -- выбор конкретной реализации делается на этапе компиляции, до выполнения программы.\n",
    "\n",
    "## Динамический полиморфизм\n",
    "\n",
    "Одна из мотиваций для создания ООП -- возможность представить в памяти компьютера одну и ту же абстракцию разными способами. Чтобы \"клиент\" -- программист, использующий реализацию, -- имел возможность использовать любую из альтернативных реализаций как чёрный ящик без переписывания кода, нужно:\n",
    "\n",
    "1. дать возможность присвоить всем реализациям один тип\n",
    "2. выбирать реализацию процедур на этапе выполнения программы (т.к. на этапе компиляции аргумент имеет один и тот же \"абстрактный\" тип)\n",
    "\n",
    "## Одинарная диспетчеризация\n",
    "\n",
    "В ООП динамический полиморфизм реализуется на основе *диспетчеризации по первому аргументу*, при этом вместо записи `foo(x, y, z)` используется `x.foo(y, z)`. Исторически такое представление связано с простотой реализации в рамках языков с ранним связыванием через таблицу виртуальных методов.\n",
    "\n",
    "Одна из возникающих проблем -- это реализация методов, поведение которых должно зависеть от типов нескольких объектов.\n",
    "\n",
    "**Пример**\n",
    "\n",
    "```python\n",
    "class ComplexNumber:\n",
    "    pass\n",
    "\n",
    "class ComplexCart(ComplexNumber):\n",
    "    def __init__(self, x, y=0):\n",
    "        self._re = x\n",
    "        self._im = y\n",
    "        \n",
    "    def add(self, z):\n",
    "        return ComplexCart(self._re + z.realpart(), self._im + z.imagpart())\n",
    "    \n",
    "    def realpart(self):\n",
    "        return self._re\n",
    "    \n",
    "    def imagpart(self):\n",
    "        return self._im\n",
    "\n",
    "class ComplexPolar(ComplexNumber):\n",
    "    def __init__(self, r, phi=0):\n",
    "        self._r = r\n",
    "        self._phi = phi\n",
    "        \n",
    "    def add(self, z):\n",
    "        re = self.realpart() + z.realpart()\n",
    "        im = self.imagpart() + z.imagpart()\n",
    "        return ComplexPolar(sqrt(re**2 + im**2), atan2(im, re))\n",
    "    \n",
    "    def realpart(self):\n",
    "        return self._r * cos(self._phi)\n",
    "    \n",
    "    def imagpart(self):\n",
    "        return self._r * sin(self._phi)\n",
    "```\n",
    "\n",
    "Здесь возникает две проблемы:\n",
    "1. Процедура `add` работает только внутри класса комплексных чисел (т.е. нельзя сложить комплексное число с целым).\n",
    "2. Результат работы `add` зависит от объекта, который поставлен первым аргументом -- т.е. сложение, в некотором смысле, будет некоммутативным.\n",
    "\n",
    "До некоторой степени можно исправить первый недостаток, подправив инициализацию. Например:\n",
    "\n",
    "```python\n",
    "class ComplexPolar(ComplexNumber):\n",
    "    def __init__(self, x, phi=0):\n",
    "        if isinstance(x, ComplexNumber):\n",
    "            r = sqrt(x.realpart()**2 + x.imagpart()**2)\n",
    "            phi = atan2(x.imagpart(), x.realpart())\n",
    "        else:\n",
    "            r = x\n",
    "        self._r = r\n",
    "        self._phi = phi\n",
    "    \n",
    "    def add(self, z):\n",
    "        z = ComplexPolar(z)\n",
    "        ...\n",
    "```\n",
    "Однако это оставляет другую проблему -- если появляется другой класс, для которого хотелось бы определить процедуру сложения с комплексным числом, мы должны добавить к `ComplexCart` и `ComplexPolar` процедуру инициализации с объектом нового типа."
   ]
  },
  {
   "cell_type": "markdown",
   "id": "8b846aad",
   "metadata": {},
   "source": [
    "## Множественная диспетчеризация\n",
    "\n",
    "При множественной диспетчеризации выбор нужного метода идёт на основе типов всех аргументов, а не только одного выделенного.\n",
    "\n",
    "Рассмотрим пример: реализация комплексных чисел в декартовом и полярном представлениях (типы `ComplexCart` и `ComplexPolar`).\n",
    "\n",
    "Необходимо реализовать процедуры сложения и умножения чисел со следующими свойствами:\n",
    "* сложение и умножение чисел одинакового типа возвращает тот же тип\n",
    "* сложение и умножение комплексного числа и действительного даёт тип комплексного числа\n",
    "* для разных комплексных типов будем считать, что нам предпочтителен тип результата `ComplexCart`"
   ]
  },
  {
   "cell_type": "markdown",
   "id": "f372fa91",
   "metadata": {},
   "source": [
    "#### Типы данных"
   ]
  },
  {
   "cell_type": "code",
   "execution_count": 3,
   "id": "44fe2ede",
   "metadata": {},
   "outputs": [],
   "source": [
    "abstract type ComplexNumber end\n",
    "\n",
    "struct ComplexCart <: ComplexNumber\n",
    "    _re::Float64\n",
    "    _im::Float64\n",
    "end\n",
    "\n",
    "struct ComplexPolar <: ComplexNumber\n",
    "    _r::Float64\n",
    "    _φ::Float64\n",
    "end"
   ]
  },
  {
   "cell_type": "markdown",
   "id": "040eb391",
   "metadata": {},
   "source": [
    "#### Вспомогательные функии для получения действительной и мнимой частей"
   ]
  },
  {
   "cell_type": "code",
   "execution_count": 4,
   "id": "72608628",
   "metadata": {
    "scrolled": true
   },
   "outputs": [
    {
     "data": {
      "text/plain": [
       "imagpart (generic function with 2 methods)"
      ]
     },
     "execution_count": 4,
     "metadata": {},
     "output_type": "execute_result"
    }
   ],
   "source": [
    "function realpart(z::ComplexCart)\n",
    "    return z._re\n",
    "end\n",
    "\n",
    "function imagpart(z::ComplexCart)\n",
    "    return z._im\n",
    "end\n",
    "\n",
    "function realpart(z::ComplexPolar)\n",
    "    return z._r * cos(z._φ)\n",
    "end\n",
    "\n",
    "function imagpart(z::ComplexPolar)\n",
    "    return z._r * sin(z._φ)\n",
    "end"
   ]
  },
  {
   "cell_type": "markdown",
   "id": "c9696358",
   "metadata": {},
   "source": [
    "#### Сложение двух комплексных чисел в общем случае"
   ]
  },
  {
   "cell_type": "code",
   "execution_count": 5,
   "id": "669eadce",
   "metadata": {},
   "outputs": [],
   "source": [
    "function Base.:+(z1::ComplexNumber, z2::ComplexNumber)\n",
    "    return ComplexCart(realpart(z1) + realpart(z2), imagpart(z1) + imagpart(z2))\n",
    "end"
   ]
  },
  {
   "cell_type": "markdown",
   "id": "ff586b92",
   "metadata": {},
   "source": [
    "За счет диспетчеризации в функциях `realpart` и `imagpart` функция работает как со слагаемыми одного типа, так и разных типов:"
   ]
  },
  {
   "cell_type": "code",
   "execution_count": 6,
   "id": "5da85393",
   "metadata": {},
   "outputs": [
    {
     "data": {
      "text/plain": [
       "ComplexCart(7.0, 8.0)"
      ]
     },
     "execution_count": 6,
     "metadata": {},
     "output_type": "execute_result"
    }
   ],
   "source": [
    "ComplexCart(4, 5) + ComplexCart(3, 3)"
   ]
  },
  {
   "cell_type": "code",
   "execution_count": 7,
   "id": "1f35f0d4",
   "metadata": {},
   "outputs": [
    {
     "data": {
      "text/plain": [
       "ComplexCart(6.0, 8.0)"
      ]
     },
     "execution_count": 7,
     "metadata": {},
     "output_type": "execute_result"
    }
   ],
   "source": [
    "ComplexCart(3, 4) + ComplexPolar(5, atan(4, 3))"
   ]
  },
  {
   "cell_type": "code",
   "execution_count": 8,
   "id": "4b19b2fc",
   "metadata": {},
   "outputs": [
    {
     "data": {
      "text/plain": [
       "ComplexCart(6.0, 8.0)"
      ]
     },
     "execution_count": 8,
     "metadata": {},
     "output_type": "execute_result"
    }
   ],
   "source": [
    "ComplexPolar(5, atan(4, 3)) + ComplexCart(3, 4)"
   ]
  },
  {
   "cell_type": "markdown",
   "id": "469c3465",
   "metadata": {},
   "source": [
    "Но пока что не работает сложение чисел в полярном представлении так, как хотелось бы."
   ]
  },
  {
   "cell_type": "code",
   "execution_count": 9,
   "id": "f45c36e3",
   "metadata": {},
   "outputs": [
    {
     "data": {
      "text/plain": [
       "ComplexCart(6.000000000000001, 7.999999999999999)"
      ]
     },
     "execution_count": 9,
     "metadata": {},
     "output_type": "execute_result"
    }
   ],
   "source": [
    "ComplexPolar(5, atan(4, 3)) + ComplexPolar(5, atan(4, 3))"
   ]
  },
  {
   "cell_type": "markdown",
   "id": "7c4beb2d",
   "metadata": {},
   "source": [
    "#### Добавление отдельного метода для полярного представления"
   ]
  },
  {
   "cell_type": "code",
   "execution_count": 10,
   "id": "b9f37663",
   "metadata": {},
   "outputs": [],
   "source": [
    "function Base.:+(z1::ComplexPolar, z2::ComplexPolar)\n",
    "    re = realpart(z1) + realpart(z2)\n",
    "    im = imagpart(z1) + imagpart(z2)\n",
    "    return ComplexPolar(hypot(re, im), atan(im, re))\n",
    "end"
   ]
  },
  {
   "cell_type": "code",
   "execution_count": 11,
   "id": "da71acb6",
   "metadata": {},
   "outputs": [
    {
     "data": {
      "text/plain": [
       "ComplexPolar(10.0, 0.9272952180016121)"
      ]
     },
     "execution_count": 11,
     "metadata": {},
     "output_type": "execute_result"
    }
   ],
   "source": [
    "ComplexPolar(5, atan(4, 3)) + ComplexPolar(5, atan(4, 3))"
   ]
  },
  {
   "cell_type": "markdown",
   "id": "89b474a0",
   "metadata": {},
   "source": [
    "#### Реализация операции между комплексным числом и действительным"
   ]
  },
  {
   "cell_type": "code",
   "execution_count": 12,
   "id": "eb4b91c9",
   "metadata": {},
   "outputs": [],
   "source": [
    "function Base.:+(z::ComplexCart, x::Real)\n",
    "    return ComplexCart(realpart(z) + x, imagpart(z))\n",
    "end\n",
    "\n",
    "Base.:+(x::Real, z::ComplexCart) = z + x"
   ]
  },
  {
   "cell_type": "code",
   "execution_count": 13,
   "id": "41ba03b8",
   "metadata": {},
   "outputs": [
    {
     "data": {
      "text/plain": [
       "ComplexCart(10.0, 4.0)"
      ]
     },
     "execution_count": 13,
     "metadata": {},
     "output_type": "execute_result"
    }
   ],
   "source": [
    "ComplexCart(3, 4) + 7"
   ]
  },
  {
   "cell_type": "code",
   "execution_count": 14,
   "id": "4b4e9d4d",
   "metadata": {},
   "outputs": [
    {
     "data": {
      "text/plain": [
       "ComplexCart(10.0, 4.0)"
      ]
     },
     "execution_count": 14,
     "metadata": {},
     "output_type": "execute_result"
    }
   ],
   "source": [
    "7 + ComplexCart(3, 4)"
   ]
  },
  {
   "cell_type": "markdown",
   "id": "7e3c360a",
   "metadata": {},
   "source": [
    "Можно записать реализацию операции между комплексным и действительным числом в более общем виде, определив конструкторы комплексных чисел из действительных. Тогда для сложения мы сначала преобразуем действительное число в комплексное нужного типа, а затем складываем два аргумента уже как комплексные числа:"
   ]
  },
  {
   "cell_type": "code",
   "execution_count": 15,
   "id": "9d6c8715",
   "metadata": {},
   "outputs": [],
   "source": [
    "function Base.:+(z::ComplexNumber, x::Real)\n",
    "    x_cplx = typeof(z)(x)\n",
    "    return z + x_cplx\n",
    "end\n",
    "\n",
    "Base.:+(x::Real, z::ComplexNumber) = z + x"
   ]
  },
  {
   "cell_type": "code",
   "execution_count": 16,
   "id": "34a438bd",
   "metadata": {},
   "outputs": [
    {
     "data": {
      "text/plain": [
       "ComplexPolar"
      ]
     },
     "execution_count": 16,
     "metadata": {},
     "output_type": "execute_result"
    }
   ],
   "source": [
    "ComplexCart(x::Real) = ComplexCart(x, 0)\n",
    "\n",
    "ComplexPolar(x::Real) = ComplexPolar(abs(x), x >= 0 ? 0.0 : pi)"
   ]
  },
  {
   "cell_type": "code",
   "execution_count": 17,
   "id": "5808e117",
   "metadata": {},
   "outputs": [
    {
     "data": {
      "text/plain": [
       "ComplexPolar(5.0, 0.9272952180016121)"
      ]
     },
     "execution_count": 17,
     "metadata": {},
     "output_type": "execute_result"
    }
   ],
   "source": [
    "ComplexPolar(4, pi/2) + 3"
   ]
  },
  {
   "cell_type": "markdown",
   "id": "046efc4c",
   "metadata": {},
   "source": [
    "Обратим внимание, что конкретная вызываемая операция `+` зависит от *типов обоих слагаемых*, поэтому схема одиночной диспетчеризации, принятая в ООП, здесь не подходит в полной мере.\n",
    "\n",
    "При помощи же множественной диспетчеризации мы можем написать свой метод под любую комбинацию типов операндов.\n",
    "\n",
    "При необходимости, если будет добавлен ещё один тип представления комплексных чисел, нужные методы легко добавляются.\n",
    "\n",
    "В традиционном ООП выбор метода на основе типов двух аргументов возможно реализовать с помощью паттерна \"двойная диспетчеризация\", но для трёх и более аргументов решения нет. В случае же простой перегрузки функций в C++ не реализуется динамический выбор реализации."
   ]
  },
  {
   "cell_type": "markdown",
   "id": "f393afd4",
   "metadata": {},
   "source": [
    "### Пример паттерна диспетчеризации -- объявление функции для работы с потоком ввода-вывода или с именем файла\n",
    "\n",
    "Задача: получить номер шага из дампа LAMMPS\n",
    "\n",
    "```\n",
    "ITEM: TIMESTEP\n",
    "1800\n",
    "ITEM: NUMBER OF ATOMS\n",
    "1000\n",
    "ITEM: BOX BOUNDS pp pp pp\n",
    "0.0000000000000000e+00 1.1856311014966876e+01\n",
    "0.0000000000000000e+00 1.1856311014966876e+01\n",
    "0.0000000000000000e+00 1.1856311014966876e+01\n",
    "...\n",
    "```\n",
    "\n",
    "Сначала определим метод, который принимает на вход поток ввода-вывода, читает оттуда данные и парсит их:"
   ]
  },
  {
   "cell_type": "code",
   "execution_count": 18,
   "id": "9f52423c",
   "metadata": {},
   "outputs": [
    {
     "data": {
      "text/plain": [
       "parse_lammps_dump (generic function with 1 method)"
      ]
     },
     "execution_count": 18,
     "metadata": {},
     "output_type": "execute_result"
    }
   ],
   "source": [
    "function parse_lammps_dump(io::IO)\n",
    "    ln = readline(io)\n",
    "    startswith(ln, \"ITEM: TIMESTEP\") || error()\n",
    "    \n",
    "    tstep_str = readline(io)\n",
    "    return parse(Int, tstep_str)\n",
    "end"
   ]
  },
  {
   "cell_type": "markdown",
   "id": "620eb7ff",
   "metadata": {},
   "source": [
    "Теперь определим метод с таким же именем, но строковым аргументом. Строка интерпретируется как имя файла, который открывается, и работа с полученным файловым потоком делегируется ранее введённому методу."
   ]
  },
  {
   "cell_type": "code",
   "execution_count": 19,
   "id": "9381d1b1",
   "metadata": {},
   "outputs": [
    {
     "data": {
      "text/plain": [
       "parse_lammps_dump (generic function with 2 methods)"
      ]
     },
     "execution_count": 19,
     "metadata": {},
     "output_type": "execute_result"
    }
   ],
   "source": [
    "function parse_lammps_dump(fname::AbstractString)\n",
    "    open(fname) do io\n",
    "        return parse_lammps_dump(io)\n",
    "    end\n",
    "end"
   ]
  },
  {
   "cell_type": "code",
   "execution_count": 20,
   "id": "804155e3",
   "metadata": {},
   "outputs": [
    {
     "data": {
      "text/plain": [
       "1800"
      ]
     },
     "execution_count": 20,
     "metadata": {},
     "output_type": "execute_result"
    }
   ],
   "source": [
    "parse_lammps_dump(\n",
    "    IOBuffer(\"\"\"\n",
    "    ITEM: TIMESTEP\n",
    "    1800\n",
    "    ITEM: NUMBER OF ATOMS\n",
    "    1000\n",
    "    ITEM: BOX BOUNDS pp pp pp\n",
    "    0.0000000000000000e+00 1.1856311014966876e+01\n",
    "    0.0000000000000000e+00 1.1856311014966876e+01\n",
    "    0.0000000000000000e+00 1.1856311014966876e+01\n",
    "    \"\"\")\n",
    ")"
   ]
  },
  {
   "cell_type": "code",
   "execution_count": 21,
   "id": "e5a96a39",
   "metadata": {},
   "outputs": [
    {
     "data": {
      "text/plain": [
       "1000"
      ]
     },
     "execution_count": 21,
     "metadata": {},
     "output_type": "execute_result"
    }
   ],
   "source": [
    "parse_lammps_dump(\"/home/vvp/Work/Simulations/test/ljstat/lj.0.75.1000.dump\")"
   ]
  },
  {
   "cell_type": "code",
   "execution_count": null,
   "id": "4fbca5fa",
   "metadata": {},
   "outputs": [],
   "source": []
  }
 ],
 "metadata": {
  "kernelspec": {
   "display_name": "Julia (multithread) 1.7.1",
   "language": "julia",
   "name": "julia-(multithread)-1.7"
  },
  "language_info": {
   "file_extension": ".jl",
   "mimetype": "application/julia",
   "name": "julia",
   "version": "1.7.1"
  }
 },
 "nbformat": 4,
 "nbformat_minor": 5
}
