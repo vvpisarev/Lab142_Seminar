{
 "cells": [
  {
   "cell_type": "markdown",
   "id": "e6cab88b",
   "metadata": {},
   "source": [
    "# Функции\n",
    "\n",
    "Функции и типы данных -- основные единицы переиспользования кода.\n",
    "\n",
    "Хотя интерпретируемые языки *позволяют* писать программу \"одним куском\" без разделения, лучше так не делать и применять **декомпозицию на функции**. Преимущества этого:\n",
    "* проще читать\n",
    "* проще понимать\n",
    "* проще отлаживать\n",
    "* проще компоновать\n",
    "\n",
    "## Функция с точки зрения математики\n",
    "\n",
    "В математике функция -- однозначное отображение из области определения во множество значений.\n",
    "\n",
    "Т.е. у функции есть *аргумент* -- один или в виде кортежа, -- которому в соответствие ставится *значение*, если он является допустимым.\n",
    "\n",
    "Очевидное свойство -- одному аргументу функции соответствует единственное значение.\n",
    "\n",
    "## Функция с точки зрения программирования\n",
    "\n",
    "В программировании функция -- это *подпрограмма*, в идеале применяемая в первую очередь для получения значения на основе своих аргументов.\n",
    "\n",
    "Поведение функции как подпрограммы может определяться неким *состоянием* программы, из-за чего понимание функции отличается от математического -- подпрограмма при вызове с теми же аргументами может давать разный результат.\n",
    "\n",
    "Функции, которые при применении к одному и тому же значению дают один и тот же результат, называют *чистыми*.\n",
    "\n",
    "Пример функции, не являющейся чистой:"
   ]
  },
  {
   "cell_type": "code",
   "execution_count": 1,
   "id": "6230e2d6",
   "metadata": {},
   "outputs": [],
   "source": [
    "from random import random"
   ]
  },
  {
   "cell_type": "code",
   "execution_count": 2,
   "id": "498ef143",
   "metadata": {},
   "outputs": [
    {
     "data": {
      "text/plain": [
       "0.2943392971295712"
      ]
     },
     "execution_count": 2,
     "metadata": {},
     "output_type": "execute_result"
    }
   ],
   "source": [
    "random()"
   ]
  },
  {
   "cell_type": "code",
   "execution_count": 3,
   "id": "a2c5b2bf",
   "metadata": {},
   "outputs": [
    {
     "data": {
      "text/plain": [
       "0.23557876079831386"
      ]
     },
     "execution_count": 3,
     "metadata": {},
     "output_type": "execute_result"
    }
   ],
   "source": [
    "random()"
   ]
  },
  {
   "cell_type": "code",
   "execution_count": 4,
   "id": "cb566ec9",
   "metadata": {},
   "outputs": [
    {
     "data": {
      "text/plain": [
       "False"
      ]
     },
     "execution_count": 4,
     "metadata": {},
     "output_type": "execute_result"
    }
   ],
   "source": [
    "random() == random()"
   ]
  },
  {
   "cell_type": "markdown",
   "id": "a8378feb",
   "metadata": {},
   "source": [
    "Обычно функции, не имеющие никаких аргументов -- не чистые, поскольку чистые можно было бы заменить просто на значения. Исключениями будут разве что конструкторы типов, которые возвращают, конечно, каждый раз *разные* объекты (расположенные в разных ячейках памяти), но имеющие одинаковые значения.\n",
    "\n",
    "Пример чистой функции:"
   ]
  },
  {
   "cell_type": "code",
   "execution_count": 5,
   "id": "82a8fa18",
   "metadata": {},
   "outputs": [],
   "source": [
    "def square(x):\n",
    "    return x * x"
   ]
  },
  {
   "cell_type": "code",
   "execution_count": 6,
   "id": "a031f07e",
   "metadata": {},
   "outputs": [
    {
     "data": {
      "text/plain": [
       "True"
      ]
     },
     "execution_count": 6,
     "metadata": {},
     "output_type": "execute_result"
    }
   ],
   "source": [
    "square(5) == square(5)"
   ]
  },
  {
   "cell_type": "markdown",
   "id": "dbc1fefe",
   "metadata": {},
   "source": [
    "Значение чистой функции определяется значениями её аргументов, определениями других входящих в её тело функций, константными значениями **и ничем более**. Т.е. чистая функция внутри себя может пользоваться только другими чистыми функциями.\n",
    "\n",
    "Про функцию, не являющуюся чистой, говорят, что она производит *побочный эффект*. К побочным эффектам относятся\n",
    "* чтение из потока ввода (меняется положение \"курсора\" в потоке)\n",
    "* запись в поток вывода\n",
    "* изменение состояния некоторого программного объекта\n",
    "* изменение состояния переданных аргументов\n",
    "\n",
    "т.е. всё, что позволяет программисту как-то отличить состояния \"до\" вызова функции и \"после\" (на уровне компьютерного железа, очевидно, любое выполнение подпрограммы приведёт к каким-то изменениям -- например, изменятся значения регистров, -- но из программы они не обязаны быть напрямую доступны).\n",
    "\n",
    "Опасность побочных эффектов -- в том, что они, подобно квантовой запутанности, вызывают \"spooky action at a distance\". В результате ошибка может быть *не обязательно в тексте функции, но и в положении вызова этой функции относительно остальных*.\n",
    "\n",
    "Пример того, что функции с побочными эффектами должны вызываться в строго определённом порядке:"
   ]
  },
  {
   "cell_type": "code",
   "execution_count": 7,
   "id": "e285d1f6",
   "metadata": {},
   "outputs": [],
   "source": [
    "from io import StringIO\n",
    "import numpy as np\n",
    "import scipy\n",
    "import scipy.linalg\n",
    "\n",
    "def read_header(file):\n",
    "    first_string = file.readline()\n",
    "    return first_string.split()\n",
    "\n",
    "def read_data(file, colnames=None):\n",
    "    if colnames is not None:\n",
    "        format = {\"names\": colnames, \"formats\": [\"f4\" for _ in colnames]}\n",
    "        return np.loadtxt(file, dtype=format)\n",
    "    else:\n",
    "        return np.loadtxt(file)\n",
    "\n",
    "def read_table(file):\n",
    "    colnames = read_header(file)\n",
    "    return read_data(file)"
   ]
  },
  {
   "cell_type": "code",
   "execution_count": 8,
   "id": "1d008137",
   "metadata": {},
   "outputs": [
    {
     "data": {
      "text/plain": [
       "array([[ 0.0000000e+00,  1.0000000e+00,  5.5911568e-01,  1.0211457e-01],\n",
       "       [ 1.0000000e+02,  9.7820637e-01,  6.3393299e-01,  6.9052478e-02],\n",
       "       [ 2.0000000e+02,  1.0119581e+00,  4.7629965e-01,  1.2195751e-01],\n",
       "       [ 3.0000000e+02,  9.9689111e-01,  5.4569400e-01,  1.0526807e-02],\n",
       "       [ 4.0000000e+02,  9.9459354e-01,  5.3912640e-01,  7.3156860e-02],\n",
       "       [ 5.0000000e+02,  9.5087088e-01,  7.7035112e-01,  6.3373937e-02],\n",
       "       [ 6.0000000e+02,  1.0213663e+00,  3.7514456e-01,  1.6874407e-01],\n",
       "       [ 7.0000000e+02,  1.0177222e+00,  3.9383970e-01, -6.2810141e-02],\n",
       "       [ 8.0000000e+02,  1.0071980e+00,  5.1861816e-01, -2.0937204e-01],\n",
       "       [ 9.0000000e+02,  1.0006034e+00,  6.2299635e-01,  1.2676103e-01],\n",
       "       [ 1.0000000e+03,  1.0174942e+00,  3.0372804e-01,  1.1736125e-01]])"
      ]
     },
     "execution_count": 8,
     "metadata": {},
     "output_type": "execute_result"
    }
   ],
   "source": [
    "io = StringIO(\"\"\"Step Temp Press Pxy \n",
    "       0            1   0.55911568   0.10211457 \n",
    "     100   0.97820637   0.63393299  0.069052478 \n",
    "     200    1.0119581   0.47629965   0.12195751 \n",
    "     300   0.99689111     0.545694  0.010526807 \n",
    "     400   0.99459354    0.5391264   0.07315686 \n",
    "     500   0.95087088   0.77035112  0.063373937 \n",
    "     600    1.0213663   0.37514456   0.16874407 \n",
    "     700    1.0177222    0.3938397 -0.062810141 \n",
    "     800     1.007198   0.51861816  -0.20937204 \n",
    "     900    1.0006034   0.62299635   0.12676103 \n",
    "    1000    1.0174942   0.30372804   0.11736125 \n",
    "\"\"\")\n",
    "\n",
    "read_table(io)"
   ]
  },
  {
   "cell_type": "markdown",
   "id": "d1d2d1b5",
   "metadata": {},
   "source": [
    "Очевидно, что для чтения данных из лога LAMMPS в показанном выше формате внутри функции `read_table` вызов `read_header(file)` должен стоять перед `read_data(file)`, причём ровно в единственном экземпляре."
   ]
  },
  {
   "cell_type": "markdown",
   "id": "036ddb68",
   "metadata": {},
   "source": [
    "Методически можно отметить также осмысленность выделения операции, которая в данном случае просто читает одну строчку из файла и разбивает её на слова, в функцию `read_header`. При чтении текста основной функции `read_table` сразу становится понятно, что ожидается некий вход, содержащий заголовок. К тому же, от заголовка может быть польза -- `read_table` можно переписать как\n",
    "\n",
    "```python\n",
    "def read_table(file):\n",
    "    colnames = read_header(file)\n",
    "    return read_data(file, colnames)\n",
    "```\n",
    "\n",
    "Тогда считанные имена столбцов будут включены в таблицу."
   ]
  },
  {
   "cell_type": "markdown",
   "id": "e64c4b36",
   "metadata": {},
   "source": [
    "Особняком стоят побочные эффекты, связанные с изменением состояния переданных в функцию аргументов. Довольно часто, если из функции нужно получить массив или другой контейнер, результат переписывает содержимое одного или нескольких из переданных аргументов. Такие аргументы называют *выходными*.\n",
    "\n",
    "В простых скриптах привлекательно выглядит вариант, когда вместо выходных аргументов переписывается какая-нибудь глобальная переменная. **Так лучше не делать**. Ситуация, когда все данные, от которых зависит результат вычисления функции, она получает из аргументов, и все возможные изменения локализованы там же, -- гораздо удобнее для отладки, модификации и чтения другими людьми."
   ]
  },
  {
   "cell_type": "code",
   "execution_count": 9,
   "id": "9974fb91",
   "metadata": {},
   "outputs": [],
   "source": [
    "def normalize_rows(array):\n",
    "    for r in range(array.shape[0]):\n",
    "        array[r,:] /= np.linalg.norm(array[r, :])\n",
    "    return array"
   ]
  },
  {
   "cell_type": "code",
   "execution_count": 10,
   "id": "52764d81",
   "metadata": {},
   "outputs": [
    {
     "data": {
      "text/plain": [
       "array([[0.74192605, 0.77667331, 0.75119021, 0.58291164, 0.63467427],\n",
       "       [0.79412949, 0.66812904, 0.1100631 , 0.63064272, 0.80257086],\n",
       "       [0.67044436, 0.00970945, 0.96063284, 0.76766735, 0.82242292],\n",
       "       [0.11471715, 0.90602322, 0.62968084, 0.61708868, 0.49958341],\n",
       "       [0.8295284 , 0.30274072, 0.3042647 , 0.15145893, 0.53280984]])"
      ]
     },
     "execution_count": 10,
     "metadata": {},
     "output_type": "execute_result"
    }
   ],
   "source": [
    "matr = np.random.rand(5, 5)\n",
    "matr"
   ]
  },
  {
   "cell_type": "code",
   "execution_count": 11,
   "id": "0893b1cd",
   "metadata": {},
   "outputs": [
    {
     "data": {
      "text/plain": [
       "array([[0.47298096, 0.49513248, 0.4788869 , 0.37160861, 0.4046075 ],\n",
       "       [0.54400315, 0.45768896, 0.07539661, 0.43200968, 0.54978575],\n",
       "       [0.4127787 , 0.00597791, 0.59144173, 0.47263688, 0.50634875],\n",
       "       [0.08409395, 0.66416456, 0.46159049, 0.45235975, 0.36622196],\n",
       "       [0.76391071, 0.2787932 , 0.28019663, 0.13947817, 0.4906633 ]])"
      ]
     },
     "execution_count": 11,
     "metadata": {},
     "output_type": "execute_result"
    }
   ],
   "source": [
    "normalize_rows(matr)\n",
    "matr"
   ]
  },
  {
   "cell_type": "markdown",
   "id": "339215e1",
   "metadata": {},
   "source": [
    "# Области видимости переменных (идентификаторов)\n",
    "\n",
    "Ещё одна причина для функциональной декомпозиции сложных задач -- не запутаться при написании большой программы или функции. Одним из источников ошибок, особенно в языках с динамической типизацией, может быть случайное нецелевое использование имени, которое уже применено для других целей.\n",
    "\n",
    "Как иллюстрацию можно привести такой (довольно надуманный) пример для случая, когда все вычисления сделаны в toplevel скрипта без декомпозиции на функции (или в одной большой функции, что по сути одно и то же):\n",
    "\n",
    "```python\n",
    "a = []\n",
    "# какая-то работа с `a` и другими переменными\n",
    "\n",
    "# забыли, что `a` уже где-то использовалось\n",
    "if some_condition:\n",
    "    a = 5\n",
    "elif another_condition:\n",
    "    a = 0\n",
    "\n",
    "print(x + a * y)\n",
    "```\n",
    "\n",
    "Опасность состоит в том, что в условном выражении могут быть прописаны условия, не покрывающие все случаи. И тогда, если вдруг случится что-либо не подпадающее ни под `some_condition`, ни под `another_condition`, то в `a` вместо числа окажется массив.\n",
    "\n",
    "Ограничение *области видимости* имён -- т.е. части программы, где одно и то же имя означает одну и ту же сущность -- вместе с разбиением на подпрограммы сглаживает эту проблему.\n",
    "\n",
    "Вспомним, что идентификатор -- это любая допустимая строка в тексте программы, не являющаяся\n",
    "* литералом (`1`, `\"zzz\"`, `True`, `None`)\n",
    "* ключевым словом (`def`, `for` и т.п.)\n",
    "* зарезервированным символом оператора (`+`, `()`, `[]`, `:` и т.п.)\n",
    "* частью комментария\n",
    "\n",
    "Идентификаторы используются для именования переменных, функций, классов и т.п. Ограничение области видимости означает, что смысл, вкладываемый в одно и то же имя в разных частях программы, может быть разным без возникновения конфликта, затирания старых значений и т.п.\n",
    "\n",
    "Рассмотрим пример:\n",
    "\n",
    "```python\n",
    "array = numpy.array([[1.0, 2.0], [3.0, 4.0]])\n",
    "\n",
    "def normalize_rows(array):\n",
    "    array = array.copy()\n",
    "    for r in range(array.shape[0]):\n",
    "        array[r,:] /= numpy.linalg.norm(array[r, :])\n",
    "\n",
    "    return array\n",
    "\n",
    "new_array = normalize_rows(array)\n",
    "```\n",
    "\n",
    "Здесь `array` используется:\n",
    "* как имя переменной\n",
    "* как имя формального аргумента функции `normalize_rows`\n",
    "* как имя функции из модуля `numpy`\n",
    "\n",
    "При выполнении этого кода оказывается, что хотя в теле функции `normalize_rows` выполнено присваивание `array = array.copy()`, `array` после выполнении функции не меняется."
   ]
  },
  {
   "cell_type": "code",
   "execution_count": 12,
   "id": "9646ac54",
   "metadata": {},
   "outputs": [
    {
     "name": "stdout",
     "output_type": "stream",
     "text": [
      "global `array` before call:\n",
      "[[1. 2.]\n",
      " [3. 4.]]\n",
      "\n",
      "`array` =\n",
      "[[0.4472136  0.89442719]\n",
      " [0.6        0.8       ]]\n",
      "\n",
      "global `array` after call:\n",
      "[[1. 2.]\n",
      " [3. 4.]]\n"
     ]
    }
   ],
   "source": [
    "array = np.array([[1.0, 2.0], [3.0, 4.0]])\n",
    "\n",
    "def normalized_rows(array):\n",
    "    array = array.copy()\n",
    "    for r in range(array.shape[0]):\n",
    "        array[r,:] /= np.linalg.norm(array[r,:])\n",
    "    print(\"`array` =\\n{}\".format(array))\n",
    "    return array\n",
    "\n",
    "print(\"global `array` before call:\\n{}\\n\".format(array))\n",
    "new_array = normalized_rows(array)\n",
    "\n",
    "print(\"\\nglobal `array` after call:\\n{}\".format(array))"
   ]
  },
  {
   "cell_type": "markdown",
   "id": "6adba770",
   "metadata": {},
   "source": [
    " Причина в том, что в Python имеются разные области видимости.\n",
    "\n",
    "Тело любой функции составляет *локальную область видимости*. В неё входят\n",
    "* имена формальных аргументов\n",
    "* любые имена, которые в теле функции присутствуют слева от знака присваивания\n",
    "* имена переменных цикла `for`\n",
    "* имена функций, определяемых в теле функции\n",
    "\n",
    "Поскольку внутри `normalize_rows` имя `array` используется для формального аргумента -- оно является *связанным* в рамках этой функции, и любые присваивания для этого имени не отражаются на переменных с тем же именем вне функции. Более того, существование этого имени вне функции никоим образом не требуется для её работоспособности.\n",
    "\n",
    "С другой стороны, имя `range` внутри функции является *свободным*. Это значит, что его значение определяется наличием смысла для этого имени вне функции. В данном случае, очевидно, имеется в виду стандартная функция `range`. Но язык не запрещает написать программу так:\n",
    "\n",
    "```python\n",
    "def range(x):\n",
    "    return None\n",
    "\n",
    "def normalize_rows(array):\n",
    "    array = array.copy()\n",
    "    for r in range(array.shape[0]):\n",
    "        array[r,:] /= numpy.linalg.norm(array[r, :])\n",
    "    return array\n",
    "```\n",
    "\n",
    "Тогда `normalize_rows`, естественно, будет завершаться с ошибкой. Ещё более болезненно то, что даже не важно, \"отравленное\" определение `range` будет стоять до или после определения `normalize_rows`. Все вызовы `normalize_rows`, расположенные в программе после нового определения, интерпретатор будет пытаться проделать именно с ним. Хотя в принципе в рамках функции можно создать переменную, имя которой экранирует имя встроенной функции (пусть это будет `range`), и при этом по-прежнему иметь возможность обращаться ко встроенной функции через `__builtins__.range`."
   ]
  },
  {
   "cell_type": "markdown",
   "id": "dff1c764",
   "metadata": {},
   "source": [
    "Для видимости переменных в Python применяются два основных правила:\n",
    "1. Внутри тела функции имена её формальных аргументов и всех переменных, в которые осуществляется присваивание, считаются *связанными* или *локальными*. Если вне функции объявлены идентификаторы с таким же именем, они *экранируются* локальным именем.\n",
    "2. Все остальные имена берутся из внешней (\"объемлющей\") области видимости, причём поиск идёт по тем же принципам -- значение берётся из наиболее вложенной области видимости, в которой его связывание встречается.\n",
    "\n",
    "Внутри тела функции область видимости плоская -- т.е. внутри блочных конструкций (ветвлений, циклов) новые области видимости не создаются. Это же относится к переменным циклов: в конструкции\n",
    "\n",
    "```python\n",
    "for x in collection:\n",
    "    do_something(x)\n",
    "```\n",
    "последнее значение `x` доступно после выхода из цикла. Также, если перед циклом было присваивание переменной `x` какого-то значения, при входе в цикл оно потеряется.\n",
    "\n",
    "Таким образом, внутри функции доступны все имена, определённые вне её, но только \"на чтение\". Если внутри функции есть присваивание в некоторую переменную, то интерпретатор считает такую переменную локальной."
   ]
  },
  {
   "cell_type": "code",
   "execution_count": 13,
   "id": "312e80a5",
   "metadata": {},
   "outputs": [
    {
     "name": "stdout",
     "output_type": "stream",
     "text": [
      "greeting = Hello\n",
      "Hallo\n",
      "greeting = Hello\n"
     ]
    }
   ],
   "source": [
    "greeting = \"Hello\"\n",
    "\n",
    "def german_greet():\n",
    "    greeting = \"Hallo\"\n",
    "    print(greeting)\n",
    "    \n",
    "print(\"greeting = {}\".format(greeting))\n",
    "\n",
    "german_greet()\n",
    "\n",
    "print(\"greeting = {}\".format(greeting))"
   ]
  },
  {
   "cell_type": "markdown",
   "id": "ae2dc11a",
   "metadata": {},
   "source": [
    "Для указания, что выражение `x = y` должно не создавать локальную переменную `x`, а изменить или создать глобальную переменную `x`, в Python нужно сначала пометить имя `x` внутри функции как глобальное: `global x`.\n",
    "\n",
    "Также, что актуально для вложенных функций, выражение `x = y` в теле вложенной функции означает создание локальной переменной вне зависимости от того, есть во внешней функции связывание для `x` или нет:"
   ]
  },
  {
   "cell_type": "code",
   "execution_count": 14,
   "id": "7940dbac",
   "metadata": {},
   "outputs": [
    {
     "name": "stdout",
     "output_type": "stream",
     "text": [
      "Inner1 y = 25\n",
      "Inner2 y = 10\n",
      "Enclosing y = 10\n"
     ]
    },
    {
     "data": {
      "text/plain": [
       "10"
      ]
     },
     "execution_count": 14,
     "metadata": {},
     "output_type": "execute_result"
    }
   ],
   "source": [
    "def enclosing1(x):\n",
    "    y = x * 2\n",
    "    def inner1(z):\n",
    "        y = z**2\n",
    "        print(\"Inner1 y = {}\".format(y))\n",
    "        return y\n",
    "        \n",
    "    def inner2(z):\n",
    "        yy = z**2\n",
    "        print(\"Inner2 y = {}\".format(y))\n",
    "        return yy\n",
    "    \n",
    "    inner1(x)\n",
    "    inner2(x)\n",
    "    print(\"Enclosing y = {}\".format(y))\n",
    "    return y\n",
    "\n",
    "enclosing1(5)"
   ]
  },
  {
   "cell_type": "markdown",
   "id": "936b107e",
   "metadata": {},
   "source": [
    "Для изменения переменной в ближайшей из объемлющих областей видимости используется ключевое слово `nonlocal`:"
   ]
  },
  {
   "cell_type": "code",
   "execution_count": 15,
   "id": "1adb62bf",
   "metadata": {},
   "outputs": [
    {
     "name": "stdout",
     "output_type": "stream",
     "text": [
      "Inner1 y = 25\n",
      "Inner2 y = 25\n",
      "Enclosing y = 25\n"
     ]
    },
    {
     "data": {
      "text/plain": [
       "25"
      ]
     },
     "execution_count": 15,
     "metadata": {},
     "output_type": "execute_result"
    }
   ],
   "source": [
    "def enclosing2(x):\n",
    "    y = x * 2\n",
    "    def inner1(z):\n",
    "        nonlocal y\n",
    "        y= z**2\n",
    "        print(\"Inner1 y = {}\".format(y))\n",
    "        return y\n",
    "        \n",
    "    def inner2(z):\n",
    "        yy = z**2\n",
    "        print(\"Inner2 y = {}\".format(y))\n",
    "        return yy\n",
    "    \n",
    "    inner1(x)\n",
    "    inner2(x)\n",
    "    print(\"Enclosing y = {}\".format(y))\n",
    "    return y\n",
    "\n",
    "enclosing2(5)"
   ]
  },
  {
   "cell_type": "markdown",
   "id": "e512d08d",
   "metadata": {},
   "source": [
    "### Замыкания\n",
    "\n",
    "Наибольшую важность идея областей видимости переменных имеют в случае, когда одна функция возвращает другую как значение. В этом случае внутренняя функция и переменные, которые она использует из внешней, образуют так называемое *лексическое замыкание*.\n",
    "\n",
    "Как пример -- генератор квадратных трёхчленов\n",
    "\n",
    "```python\n",
    "def make_quadratic(a, b, c):\n",
    "    def quatratic(x):\n",
    "        return a * x**2 + b * x + c\n",
    "    return quadratic\n",
    "```\n",
    "\n",
    "Тонкость здесь состоит в том, что изменение значений включенных в замыкание переменных влияет на поведение самих функций -- другими словами, свободные идентификаторы в замыкании связываются со ссылками на значения этих идентификаторов во внешней области видимости. В этом смысле \"обычные\" функции также являются замыканиями, для которых единственная внешняя область видимости -- глобальная.\n",
    "\n",
    "Следующий пример демонстрирует, что значение захваченного идентификатора в замыкании фиксируется не в точке определения внутренней функции, а связано с областью видимости внешней функции, которая \"продолжает жить\" только в связке с замыканием:"
   ]
  },
  {
   "cell_type": "code",
   "execution_count": 16,
   "id": "5ccca3c3",
   "metadata": {},
   "outputs": [],
   "source": [
    "def multiplications(n):\n",
    "    closures = [None for _ in range(n)]\n",
    "    \n",
    "    for k in range(n):\n",
    "        def multiply_by_k(x):\n",
    "            return k * x\n",
    "            \n",
    "        closures[k] = multiply_by_k\n",
    "    \n",
    "    return closures"
   ]
  },
  {
   "cell_type": "markdown",
   "id": "1e0fe1fa",
   "metadata": {},
   "source": [
    "Можно было бы подумать, что в массиве `multiplications(n)` лежат функции, умножающие аргументы на $0, 1, \\dots, n$. Однако, поскольку область видимости переменной `k` -- *вся функция* `multiplications`, во всех замыканиях `k` обозначает один и тот же объект: "
   ]
  },
  {
   "cell_type": "code",
   "execution_count": 17,
   "id": "18b469f1",
   "metadata": {},
   "outputs": [
    {
     "data": {
      "text/plain": [
       "[2, 2, 2]"
      ]
     },
     "execution_count": 17,
     "metadata": {},
     "output_type": "execute_result"
    }
   ],
   "source": [
    "[closure(1) for closure in multiplications(3)]"
   ]
  },
  {
   "cell_type": "markdown",
   "id": "02854360",
   "metadata": {},
   "source": [
    "Чтобы переменные `k` в каждом замыкании имели разное значение, нужно создать ещё одну вложенную область видимости, в которой зафиксировать `k`. Такая область видимости должна создаваться заново на каждой итерации цикла.\n",
    "\n",
    "В Python единственный способ создания таких областей видимости -- вызвать в цикле функцию, в которую `k` будет передаваться как аргумент:"
   ]
  },
  {
   "cell_type": "code",
   "execution_count": 18,
   "id": "cf264adf",
   "metadata": {},
   "outputs": [],
   "source": [
    "def multiplications_fix(n):\n",
    "    closures = [None for _ in range(n)]\n",
    "    \n",
    "    def gen_multiplicator(mult):\n",
    "        def multiplicator(x):\n",
    "            return mult * x\n",
    "        return multiplicator\n",
    "\n",
    "    for k in range(n):\n",
    "        closures[k] = gen_multiplicator(k)\n",
    "    \n",
    "    return closures"
   ]
  },
  {
   "cell_type": "code",
   "execution_count": 19,
   "id": "5c304916",
   "metadata": {},
   "outputs": [
    {
     "data": {
      "text/plain": [
       "[0, 1, 2]"
      ]
     },
     "execution_count": 19,
     "metadata": {},
     "output_type": "execute_result"
    }
   ],
   "source": [
    "[closure(1) for closure in multiplications_fix(3)]"
   ]
  },
  {
   "cell_type": "markdown",
   "id": "92cda558",
   "metadata": {},
   "source": [
    "Этот пример показывает, что передача данных в функции через внешние переменные, не являющиеся аргументами, может запутывать программу.\n",
    "\n",
    "Во втором примере посмотрим поведение двух замыканий, в которых переменная из внешней области видимости обозначена как `nonlocal` и может изменяться:"
   ]
  },
  {
   "cell_type": "code",
   "execution_count": 20,
   "id": "3801d896",
   "metadata": {},
   "outputs": [],
   "source": [
    "def make_counter(init=0):\n",
    "    c = init\n",
    "    def count():\n",
    "        nonlocal c\n",
    "        c += 1\n",
    "        return c\n",
    "    \n",
    "    def reset_count(init=init):\n",
    "        nonlocal c\n",
    "        c = init\n",
    "        \n",
    "    def get_count():\n",
    "        return c\n",
    "    \n",
    "    return get_count, count, reset_count"
   ]
  },
  {
   "cell_type": "code",
   "execution_count": 21,
   "id": "8c39251c",
   "metadata": {},
   "outputs": [],
   "source": [
    "get_count, count, reset_count = make_counter()"
   ]
  },
  {
   "cell_type": "code",
   "execution_count": 22,
   "id": "0b3d8c1c",
   "metadata": {},
   "outputs": [
    {
     "data": {
      "text/plain": [
       "1"
      ]
     },
     "execution_count": 22,
     "metadata": {},
     "output_type": "execute_result"
    }
   ],
   "source": [
    "count()"
   ]
  },
  {
   "cell_type": "code",
   "execution_count": 23,
   "id": "3275d315",
   "metadata": {},
   "outputs": [
    {
     "data": {
      "text/plain": [
       "2"
      ]
     },
     "execution_count": 23,
     "metadata": {},
     "output_type": "execute_result"
    }
   ],
   "source": [
    "count()"
   ]
  },
  {
   "cell_type": "code",
   "execution_count": 24,
   "id": "21b58f4a",
   "metadata": {},
   "outputs": [],
   "source": [
    "reset_count()"
   ]
  },
  {
   "cell_type": "code",
   "execution_count": 25,
   "id": "a9da0ba5",
   "metadata": {},
   "outputs": [
    {
     "data": {
      "text/plain": [
       "1"
      ]
     },
     "execution_count": 25,
     "metadata": {},
     "output_type": "execute_result"
    }
   ],
   "source": [
    "count()"
   ]
  },
  {
   "cell_type": "code",
   "execution_count": 26,
   "id": "5e312080",
   "metadata": {},
   "outputs": [
    {
     "data": {
      "text/plain": [
       "1"
      ]
     },
     "execution_count": 26,
     "metadata": {},
     "output_type": "execute_result"
    }
   ],
   "source": [
    "get_count()"
   ]
  },
  {
   "cell_type": "markdown",
   "id": "c51082c0",
   "metadata": {},
   "source": [
    "Как видно, изменение связанного с `c` значения, которое делается в `count` и `reset_count`, распространяется на всю область видимости, т.е. и на то, что получает `get_count`.\n",
    "\n",
    "Такое поведение, хотя и немного странное, похоже на поведение объектов и их методов. Это лучше видно, если замыкания возвращать как именованный кортеж:"
   ]
  },
  {
   "cell_type": "code",
   "execution_count": 27,
   "id": "a374bd11",
   "metadata": {},
   "outputs": [],
   "source": [
    "from collections import namedtuple\n",
    "\n",
    "def make_person(name, age):\n",
    "    def get_name():\n",
    "        return name\n",
    "    \n",
    "    def get_age():\n",
    "        return age\n",
    "    \n",
    "    def birthday():\n",
    "        nonlocal age\n",
    "        age += 1\n",
    "        print(\"{}'s age is now {}\".format(name, age))\n",
    "        \n",
    "    person_t = namedtuple('Person', ['name', 'age', 'birthday'])\n",
    "    return person_t(get_name, get_age, birthday)"
   ]
  },
  {
   "cell_type": "code",
   "execution_count": 28,
   "id": "f92e65bd",
   "metadata": {},
   "outputs": [],
   "source": [
    "JohnDoe = make_person(\"John Doe\", 18)"
   ]
  },
  {
   "cell_type": "code",
   "execution_count": 29,
   "id": "594c4438",
   "metadata": {},
   "outputs": [
    {
     "data": {
      "text/plain": [
       "'John Doe'"
      ]
     },
     "execution_count": 29,
     "metadata": {},
     "output_type": "execute_result"
    }
   ],
   "source": [
    "JohnDoe.name()"
   ]
  },
  {
   "cell_type": "code",
   "execution_count": 30,
   "id": "da36b15f",
   "metadata": {},
   "outputs": [
    {
     "data": {
      "text/plain": [
       "18"
      ]
     },
     "execution_count": 30,
     "metadata": {},
     "output_type": "execute_result"
    }
   ],
   "source": [
    "JohnDoe.age()"
   ]
  },
  {
   "cell_type": "code",
   "execution_count": 31,
   "id": "90d00da4",
   "metadata": {},
   "outputs": [
    {
     "name": "stdout",
     "output_type": "stream",
     "text": [
      "John Doe's age is now 19\n"
     ]
    }
   ],
   "source": [
    "JohnDoe.birthday()"
   ]
  },
  {
   "cell_type": "code",
   "execution_count": 32,
   "id": "f086b8e6",
   "metadata": {},
   "outputs": [
    {
     "data": {
      "text/plain": [
       "19"
      ]
     },
     "execution_count": 32,
     "metadata": {},
     "output_type": "execute_result"
    }
   ],
   "source": [
    "JohnDoe.age()"
   ]
  },
  {
   "cell_type": "markdown",
   "id": "0658e51f",
   "metadata": {},
   "source": [
    "Такая форма показывает, что набор функций, которые оперируют с одним и тем же изменяемым состоянием неявно (т.е. не через свои аргументы), нужно рассматривать как единый объект.\n",
    "\n",
    "Второй пример ещё раз предостерегает от использования изменяемых глобальных переменных -- при их наличии вызов любой функции может изменить поведение другой, хотя в этом может не быть явного намерения."
   ]
  }
 ],
 "metadata": {
  "kernelspec": {
   "display_name": "Python 3 (ipykernel)",
   "language": "python",
   "name": "python3"
  },
  "language_info": {
   "codemirror_mode": {
    "name": "ipython",
    "version": 3
   },
   "file_extension": ".py",
   "mimetype": "text/x-python",
   "name": "python",
   "nbconvert_exporter": "python",
   "pygments_lexer": "ipython3",
   "version": "3.8.12"
  }
 },
 "nbformat": 4,
 "nbformat_minor": 5
}
