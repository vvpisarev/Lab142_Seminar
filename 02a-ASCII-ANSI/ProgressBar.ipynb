{
 "cells": [
  {
   "cell_type": "markdown",
   "id": "3a85a103-f95b-4e9f-95e1-4bfa30308857",
   "metadata": {},
   "source": [
    "Степан Захаров, https://github.com/stepanzh/, https://stepanzh.github.io/"
   ]
  },
  {
   "cell_type": "markdown",
   "id": "4b1bed3d-5ad1-4ede-8e9f-92ee0482206c",
   "metadata": {},
   "source": [
    "# Полоса прогресса\n",
    "\n",
    "В ASCII есть несколько управляющих символов (*escape codes*), связанных с перемещением позиции печати (\"курсора\").\n",
    "Перемещением курсора можно анимировать вывод программы.\n",
    "\n",
    "Мы рассмотрим следующие коды:\n",
    "\n",
    "- LINE FEED, перевод строки, `\\n`;\n",
    "- CARRIAGE RETURN, возврат каретки, `\\r`;\n",
    "- BACKSPACE, возврат на шаг, `\\b`."
   ]
  },
  {
   "cell_type": "markdown",
   "id": "4210079b-0a16-4548-a589-190c669c5a85",
   "metadata": {},
   "source": [
    "В Python к ним можно получить доступ так:"
   ]
  },
  {
   "cell_type": "code",
   "execution_count": 1,
   "id": "1b17615b-76cf-4bcf-8e28-7fead0eb5df5",
   "metadata": {},
   "outputs": [
    {
     "name": "stdout",
     "output_type": "stream",
     "text": [
      "n  name            representation\n",
      "10 LINE FEED       '\\n'\n",
      "13 CARRIAGE RETURN '\\r'\n",
      " 8 BACKSPACE       '\\x08'\n"
     ]
    }
   ],
   "source": [
    "ASCII_escape = [('LINE FEED', '\\n'), ('CARRIAGE RETURN', '\\r'), ('BACKSPACE', '\\b')]\n",
    "print('n  {:15s} representation'.format('name'))\n",
    "for d, char in ASCII_escape:\n",
    "    print('{:2d} {:15s} {}'.format(ord(char), d, repr(char)))"
   ]
  },
  {
   "cell_type": "markdown",
   "id": "23e9ca88-073e-4fc5-96a2-0fc0ad7a35d2",
   "metadata": {},
   "source": [
    "Эффект их управления можно понять (как мне кажется, проще всего), вспомнив, как работает пишущая машинка.\n",
    "<img src=\"https://upload.wikimedia.org/wikipedia/commons/thumb/a/a4/Typemachine_binnenkant.JPG/1920px-Typemachine_binnenkant.JPG\" alt=\"Пишущая машинка Гермес 3000\" width=\"300\"/>"
   ]
  },
  {
   "cell_type": "markdown",
   "id": "e8f76ccc-379b-4826-bf33-a9eaaa04d1d2",
   "metadata": {},
   "source": [
    "Так, повороту цилиндров, зажимающих лист бумаги, соответствует **перевод строки** `\\n`.\n",
    "Т.е. курсор перемещается на одну строку вниз.\n",
    "\n",
    "1. Печатаем \"Карл у Клары\";\n",
    "2. Перевод строки;\n",
    "3. Печатаем \"украл кораллы.\".\n",
    "\n",
    "Ниже стрелка и квадрат указывают положение пишущего молоточка.\n",
    "```\n",
    "                ↓\n",
    "п.1 Карл у Клары□\n",
    "п.2 Карл у Клары\n",
    "                □\n",
    "                ↑\n",
    "п.3 Карл у Клары\n",
    "                украл кораллы.□\n",
    "                              ↑\n",
    "```\n",
    "Итог\n",
    "\n",
    "```\n",
    "Карл у Клары\n",
    "            украл кораллы\n",
    "```"
   ]
  },
  {
   "cell_type": "markdown",
   "id": "0eb67c37-e6b9-4305-9a77-876aa1ca5962",
   "metadata": {},
   "source": [
    "**Пример (перевод строки)**"
   ]
  },
  {
   "cell_type": "code",
   "execution_count": 2,
   "id": "76bcca30-93bf-4a4f-b09f-ebddfcd9e987",
   "metadata": {},
   "outputs": [
    {
     "name": "stdout",
     "output_type": "stream",
     "text": [
      "Карл у Клары\n",
      "украл кораллы."
     ]
    }
   ],
   "source": [
    "print(\"Карл у Клары\\n\", end='')\n",
    "print(\"украл кораллы.\", end='')"
   ]
  },
  {
   "cell_type": "markdown",
   "id": "f1aa3222-948c-446f-9db0-32f2671600c0",
   "metadata": {},
   "source": [
    "Эффект на компьютере другой... Он позднее прояснится."
   ]
  },
  {
   "cell_type": "markdown",
   "id": "1d7a6c8f-00b8-4856-a750-7897f0f64215",
   "metadata": {},
   "source": [
    "Отведению головы машинки с цилиндрами вправо соответствует **возврат каретки** `\\r`.\n",
    "\n",
    "1. Печатаем \"Карл у Клары украл\";\n",
    "2. Возврат каретки;\n",
    "3. Печатаем \" кораллы.\".\n",
    "\n",
    "```\n",
    "                      ↓\n",
    "п.1 Карл у Клары украл□\n",
    "    ↓\n",
    "п.2 Карл у Клары украл\n",
    "п.3\n",
    "  -  ↓\n",
    "  -  арл у Клары украл\n",
    "  -   ↓\n",
    "  -  крл у Клары украл\n",
    "  -    ↓\n",
    "  -  кол у Клары украл\n",
    "  -     ↓\n",
    "  -  кор у Клары украл\n",
    "... и так далее до ...\n",
    "             ↓\n",
    "  -  кораллы.ары украл\n",
    "```"
   ]
  },
  {
   "cell_type": "markdown",
   "id": "14b93e0a-dd3f-498d-a72c-72706ac9e262",
   "metadata": {},
   "source": [
    "*В случае с компьютером перевод строки обычно делает и возврат каретки.\n",
    "Поэтому пример выше с переводом строки так работал.*\n",
    "\n",
    "Более того, в зависимости от *операционной системы* и используемого *текстового редактора* концом строки может считаться `\\n` или комбинация `\\r\\n`.\n",
    "\n",
    "Бывает, что разработчики компилятора/интерпретора языка программирования позаботились об этом (т.е. о кроссплатформенности) и вшили такое поведение по умолчанию, но бывает и иначе."
   ]
  },
  {
   "cell_type": "markdown",
   "id": "cee67385-38ef-43e3-89df-566497da72eb",
   "metadata": {},
   "source": [
    "**Пример (возврат каретки)**"
   ]
  },
  {
   "cell_type": "code",
   "execution_count": 3,
   "id": "47d2f8f7-2047-415a-bb4e-861802bc562f",
   "metadata": {},
   "outputs": [
    {
     "name": "stdout",
     "output_type": "stream",
     "text": [
      " кораллы.ары украл"
     ]
    }
   ],
   "source": [
    "print(\"Карл у Клары украл\", end='')\n",
    "print(\"\\r\", end='')\n",
    "print(\" кораллы.\", end='')"
   ]
  },
  {
   "cell_type": "markdown",
   "id": "166c8a4b-6e57-4d8a-8f66-f18b1a79040b",
   "metadata": {},
   "source": [
    "**Возврат на шаг** идентичен эффекту соответствующей кнопки (backspace) на пишущей машинке.\n",
    "На компьютере нажатие backspace обычно приводит к стиранию символа, но на пишущей машинке стереть символ нельзя, только *записать поверх*.\n",
    "\n",
    "1. Печатаем \"Карл у Клапф\";\n",
    "2. Возврат на шаг *два раза*;\n",
    "3. Печатаем \"р\";\n",
    "4. Печатаем \"ы\";\n",
    "\n",
    "```\n",
    "                ↓\n",
    "п.1 Карл у Клапф□\n",
    "              ↓\n",
    "п.2 Карл у Клапф\n",
    "               ↓\n",
    "п.3 Карл у Кларф\n",
    "                ↓\n",
    "п.4 Карл у Клары□\n",
    "```"
   ]
  },
  {
   "cell_type": "markdown",
   "id": "55bfb235-3fa1-4469-8929-927ea557297f",
   "metadata": {},
   "source": [
    "**Пример (возврат на шаг)**\n",
    "\n",
    "Параллель с пишущей машинкой полностью выполняется."
   ]
  },
  {
   "cell_type": "code",
   "execution_count": 4,
   "id": "da6cc6d5-ba66-4d62-aed7-69d635ee49e4",
   "metadata": {},
   "outputs": [
    {
     "name": "stdout",
     "output_type": "stream",
     "text": [
      "Карл у Клары"
     ]
    }
   ],
   "source": [
    "print(\"Карл у Клапф\", end='')\n",
    "print(\"\\b\\b\", end='')\n",
    "print(\"р\", end='')\n",
    "print(\"ы\", end='')"
   ]
  },
  {
   "cell_type": "markdown",
   "id": "64d8bfed-afe3-418d-bb28-fc98d7cb8870",
   "metadata": {},
   "source": [
    "Все три примера можно сделать и \"в одной строке\"."
   ]
  },
  {
   "cell_type": "code",
   "execution_count": 5,
   "id": "a4e154e0-c799-4c89-9455-f9476fa6be8b",
   "metadata": {},
   "outputs": [
    {
     "name": "stdout",
     "output_type": "stream",
     "text": [
      "Карл у Клары\n",
      "украл Кораллы.\n",
      "\n",
      " кораллы.ары украл\n",
      "\n",
      "Карл у Клары.\n"
     ]
    }
   ],
   "source": [
    "print(\"Карл у Клары\\nукрал Кораллы.\", end=\"\\n\\n\")\n",
    "print(\"Карл у Клары украл\\r кораллы.\", end=\"\\n\\n\")\n",
    "print(\"Карл у Клапф\\b\\bры.\")"
   ]
  },
  {
   "cell_type": "markdown",
   "id": "8f84a994-5ae9-4fbf-a5cd-2ae6dac3b01b",
   "metadata": {},
   "source": [
    "Кстати, отсюда видно, что по выводу программы предугадать размер строки в исходном коде невозможно."
   ]
  },
  {
   "cell_type": "markdown",
   "id": "4b51d868-3e35-4ae6-98c7-0ea80395f36c",
   "metadata": {},
   "source": [
    "Последнее, что стоит отметить, напечатав `\\n` вернуться на предыдущую строку не получится."
   ]
  },
  {
   "cell_type": "code",
   "execution_count": 6,
   "id": "e037bd4e-6b42-4bbc-a119-c8813e12f0dc",
   "metadata": {},
   "outputs": [
    {
     "name": "stdout",
     "output_type": "stream",
     "text": [
      "AAAA\n",
      "B\n"
     ]
    }
   ],
   "source": [
    "print(\"AAAA\")  # end == '\\n'\n",
    "print(\"\\b\\bB\")"
   ]
  },
  {
   "cell_type": "markdown",
   "id": "e37c9eca-c49b-4aba-af91-06aee08bed56",
   "metadata": {},
   "source": [
    "## Реализация полосы прогресса\n",
    "\n",
    "Управляя курсором с помощью ASCII, можно перезаписывать текст в последней строке вывода.\n",
    "На этом и строится простейшая полоса прогресса."
   ]
  },
  {
   "cell_type": "code",
   "execution_count": 7,
   "id": "90a8a900-b050-4910-a8f5-d67217c8cd8d",
   "metadata": {},
   "outputs": [],
   "source": [
    "import time\n",
    "\n",
    "def somework(i, duration=0.25):\n",
    "    time.sleep(duration)"
   ]
  },
  {
   "cell_type": "markdown",
   "id": "e0797d2d-4f68-4893-b164-32e1c77b6c24",
   "metadata": {},
   "source": [
    "Можно, например, переводить \"курсор\" с помощью `\\b`."
   ]
  },
  {
   "cell_type": "code",
   "execution_count": 17,
   "id": "e19bddb8-efb4-4173-b674-28934ddab3fe",
   "metadata": {},
   "outputs": [
    {
     "name": "stdout",
     "output_type": "stream",
     "text": [
      "Iteration 9\n"
     ]
    }
   ],
   "source": [
    "print(\"Iteration  \", end='')  # последний пробел отведён под одну цифру\n",
    "for i in range(10):\n",
    "    print('\\b{}'.format(i), end='')\n",
    "    somework(i)\n",
    "print()  # Завершили работу, оставили сделали новую строку в состоянии, в котором получили рабочую строку себе"
   ]
  },
  {
   "cell_type": "markdown",
   "id": "4f4cfd76-6cb0-4345-b664-c2f93f5229b3",
   "metadata": {},
   "source": [
    "Или переводить курсор сразу в начало строки. Этот вариант обычно удобней программировать."
   ]
  },
  {
   "cell_type": "code",
   "execution_count": 19,
   "id": "792b3520-d970-4d47-ad8f-9b30082bb0ef",
   "metadata": {},
   "outputs": [
    {
     "name": "stdout",
     "output_type": "stream",
     "text": [
      " Iteration 10"
     ]
    }
   ],
   "source": [
    "for i in range(1, 11):\n",
    "    print('\\r', \"Iteration\", i, end='')\n",
    "    somework(i)"
   ]
  },
  {
   "cell_type": "code",
   "execution_count": 21,
   "id": "b2555be4-059f-403b-bd85-86d72fac1c4b",
   "metadata": {},
   "outputs": [],
   "source": [
    "# Ноль остался от первой печати, последующие печати его не переписали\n",
    "# for i in reversed(range(1, 11)):\n",
    "#     print('\\r', \"Iteration\", i, end='')\n",
    "#     somework(i, duration=1)"
   ]
  },
  {
   "cell_type": "markdown",
   "id": "0ddd8cf8-6b46-4e47-9b32-bcf4b08b5735",
   "metadata": {},
   "source": [
    "Наконец, полоса прогресса.\n",
    "\n",
    "Размер печати определяется `progress_fmt` и `progress_total_len`.\n",
    "Поскольку процент выполненного печатается как `{percent:5.1f}%`, то размер печати фиксирован и можно безопасно пользоваться `\\r`.\n",
    "\n",
    "Но стоит отметить, что можно оптимизировать печать, не перепечатывая начало полосы."
   ]
  },
  {
   "cell_type": "code",
   "execution_count": 25,
   "id": "55038653-5256-40b7-a612-c8cac28a5cde",
   "metadata": {},
   "outputs": [
    {
     "name": "stdout",
     "output_type": "stream",
     "text": [
      " |■■■■■■■■■■■■■■■■■■■■■■■■■■■■■■■■■■■■■■■■| 100.0%\n"
     ]
    }
   ],
   "source": [
    "progress_fmt = \"|{done}{todo}| {percent:5.1f}%\"\n",
    "bar_total_len = 40\n",
    "done_char = '■'  # U+25A0 'Black Square'\n",
    "todo_char = ' '  # Space\n",
    "\n",
    "work = range(543)\n",
    "for job in work:\n",
    "    done_frac = round(job/len(work), ndigits=2)\n",
    "\n",
    "    done_len = round(progress_total_len * done_frac)\n",
    "    todo_len = bar_total_len - done_len\n",
    "    print('\\r',\n",
    "        progress_fmt.format(\n",
    "            done=done_len*done_char,\n",
    "            todo=todo_len*todo_char,\n",
    "            percent=round(100*done_frac, ndigits=1)\n",
    "        ),\n",
    "        end='',\n",
    "    )\n",
    "    \n",
    "    somework(job, duration=0.01)\n",
    "print()"
   ]
  },
  {
   "cell_type": "markdown",
   "id": "317bd076-a1cd-45b6-84e2-710f511ebc79",
   "metadata": {},
   "source": [
    "Несложно добавить и оценку оставшегося времени до конца работы программы.\n",
    "\n",
    "Здесь оценка линейная\n",
    "\n",
    "$$\n",
    "\\text{осталось времени} = \\text{осталось итераций} \\frac{\\text{прошло времени}}{\\text{прошло итераций}}\n",
    "$$"
   ]
  },
  {
   "cell_type": "code",
   "execution_count": 16,
   "id": "41a427a8-63a8-4d3a-b974-dbda37a685ca",
   "metadata": {},
   "outputs": [
    {
     "name": "stdout",
     "output_type": "stream",
     "text": [
      " ETA 0.0 seconds\n"
     ]
    }
   ],
   "source": [
    "start_time = time.time()\n",
    "work = range(10)\n",
    "for job in work:\n",
    "    estimated_end = float('inf') if job == 0 else (len(work) - job) * (time.time() - start_time)/(job+1)\n",
    "    print('\\r', \"ETA {:.1f} seconds\".format(round(estimated_end, 2)), end='')\n",
    "    somework(job, duration=0.5)\n",
    "print('\\r', \"ETA {:.1f} seconds\".format(0))"
   ]
  }
 ],
 "metadata": {
  "kernelspec": {
   "display_name": "Python 3 (ipykernel)",
   "language": "python",
   "name": "python3"
  },
  "language_info": {
   "codemirror_mode": {
    "name": "ipython",
    "version": 3
   },
   "file_extension": ".py",
   "mimetype": "text/x-python",
   "name": "python",
   "nbconvert_exporter": "python",
   "pygments_lexer": "ipython3",
   "version": "3.8.5"
  }
 },
 "nbformat": 4,
 "nbformat_minor": 5
}
