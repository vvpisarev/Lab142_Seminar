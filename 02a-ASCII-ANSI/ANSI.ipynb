{
 "cells": [
  {
   "cell_type": "markdown",
   "id": "edf83c61-bfd1-4787-b660-44f8ebce38f4",
   "metadata": {},
   "source": [
    "Степан Захаров, https://github.com/stepanzh/, https://stepanzh.github.io/"
   ]
  },
  {
   "cell_type": "markdown",
   "id": "10f9ecea-1947-4262-97ce-da10dbf8e2f2",
   "metadata": {},
   "source": [
    "# ANSI escape codes\n",
    "\n",
    "Управляющие коды ANSI — стандартизированный набор последовательностей, управляющий цветом текста, декорированием текста и положением курсора.\n",
    "\n",
    "Наборы последовательностей делятся на категории по предназначению и по набору возможностей.\n",
    "Чем старее используемый терминал или его эмулятор, тем меньшее количество кодов он поддерживает.\n",
    "\n",
    "Частично, Jupyter с ANSI кодами [тоже работает](https://github.com/executablebooks/jupyter-book/issues/762).\n",
    "\n",
    "Общий паттерн применения следующий.\n",
    "\n",
    "1. Печать форматирующего кода (цвет, декорация);\n",
    "2. Печать текста;\n",
    "    - печать нового форматирующего кода;\n",
    "    - печать текста;\n",
    "    - ...\n",
    "3. Печать сброса (reset code) `\\u001b[0m`.\n",
    "\n",
    "Форматирующий код меняет состояние конфигурации (например, цвет текста), а код сброса возвращает конфигурацию в состояние по умолчанию (определяется настройками терминала).\n",
    "\n",
    "Вы могли уже сталкиваться с этими кодами в терминале.\n",
    "Например, `ls` может подсвечивать директории, исполняемые файлы, ссылки...\n",
    "Конкретно для этой команды за цвета отвечает `shell`-переменная `LSCOLORS` ([генератор LSCOLORS](https://geoff.greer.fm/lscolors/)).\n",
    "\n",
    "Почитать больше: https://www.lihaoyi.com/post/BuildyourownCommandLinewithANSIescapecodes.html."
   ]
  },
  {
   "cell_type": "markdown",
   "id": "fed050b1-f00a-4a14-875f-29f38376241e",
   "metadata": {},
   "source": [
    "## Цвета"
   ]
  },
  {
   "cell_type": "markdown",
   "id": "992297ea-2c95-4778-bdde-92eab77fe6ea",
   "metadata": {},
   "source": [
    "Общий паттерн работы"
   ]
  },
  {
   "cell_type": "code",
   "execution_count": 15,
   "id": "9cc07068-a874-4ef3-8c74-4121ff7e1293",
   "metadata": {},
   "outputs": [
    {
     "name": "stdout",
     "output_type": "stream",
     "text": [
      "Привет, я \u001b[31mкрасного цвета\u001b[0m.\n"
     ]
    }
   ],
   "source": [
    "print(\"Привет, я \\u001b[31mкрасного цвета\\u001b[0m.\")"
   ]
  },
  {
   "cell_type": "code",
   "execution_count": 16,
   "id": "a5b91430-e0ab-4c01-b127-b505dd027468",
   "metadata": {},
   "outputs": [],
   "source": [
    "def printcolored(color, text=\"цветной текст\", end='\\n'):\n",
    "    reset = '\\u001b[0m'\n",
    "    print(color, text, reset, sep='', end=end)"
   ]
  },
  {
   "cell_type": "markdown",
   "id": "06af2a54-64be-4257-8fab-df5c90fd34e4",
   "metadata": {},
   "source": [
    "### 8 стандартных цветов"
   ]
  },
  {
   "cell_type": "code",
   "execution_count": 17,
   "id": "88a582a1-6c0d-4202-a819-6ae89e9762aa",
   "metadata": {},
   "outputs": [
    {
     "name": "stdout",
     "output_type": "stream",
     "text": [
      "\u001b[30mцветной текст\u001b[0m\n",
      "\u001b[31mцветной текст\u001b[0m\n",
      "\u001b[32mцветной текст\u001b[0m\n",
      "\u001b[33mцветной текст\u001b[0m\n",
      "\u001b[34mцветной текст\u001b[0m\n",
      "\u001b[35mцветной текст\u001b[0m\n",
      "\u001b[36mцветной текст\u001b[0m\n",
      "\u001b[37mцветной текст\u001b[0m\n"
     ]
    }
   ],
   "source": [
    "black = '\\u001b[30m'\n",
    "red = '\\u001b[31m'\n",
    "green = '\\u001b[32m'\n",
    "yellow = '\\u001b[33m'\n",
    "blue = '\\u001b[34m'\n",
    "magenta = '\\u001b[35m'\n",
    "cyan = '\\u001b[36m'\n",
    "white = '\\u001b[37m'\n",
    "\n",
    "printcolored(black)\n",
    "printcolored(red)\n",
    "printcolored(green)\n",
    "printcolored(yellow)\n",
    "printcolored(blue)\n",
    "printcolored(magenta)\n",
    "printcolored(cyan)\n",
    "printcolored(white)"
   ]
  },
  {
   "cell_type": "markdown",
   "id": "bf2b6cad-97c2-4d08-b8a9-bfade26ef9f4",
   "metadata": {},
   "source": [
    "## 16 цветов\n",
    "\n",
    "Данный набор расширяет предыдущий восьмью \"яркими\" версиями."
   ]
  },
  {
   "cell_type": "code",
   "execution_count": 18,
   "id": "0d82a9cb-f90f-4273-85c0-28e64e1ba5be",
   "metadata": {},
   "outputs": [
    {
     "name": "stdout",
     "output_type": "stream",
     "text": [
      "\u001b[30mцветной текст\u001b[0m\t\u001b[30;1mцветной текст\u001b[0m\n",
      "\u001b[31mцветной текст\u001b[0m\t\u001b[31;1mцветной текст\u001b[0m\n",
      "\u001b[32mцветной текст\u001b[0m\t\u001b[32;1mцветной текст\u001b[0m\n",
      "\u001b[33mцветной текст\u001b[0m\t\u001b[33;1mцветной текст\u001b[0m\n",
      "\u001b[34mцветной текст\u001b[0m\t\u001b[34;1mцветной текст\u001b[0m\n",
      "\u001b[35mцветной текст\u001b[0m\t\u001b[35;1mцветной текст\u001b[0m\n",
      "\u001b[36mцветной текст\u001b[0m\t\u001b[36;1mцветной текст\u001b[0m\n",
      "\u001b[37mцветной текст\u001b[0m\t\u001b[37;1mцветной текст\u001b[0m\n"
     ]
    }
   ],
   "source": [
    "bright_black = '\\u001b[30;1m'  # black = '\\u001b[30m'\n",
    "bright_red = '\\u001b[31;1m'\n",
    "bright_green = '\\u001b[32;1m'\n",
    "bright_yellow = '\\u001b[33;1m'\n",
    "bright_blue = '\\u001b[34;1m'\n",
    "bright_magenta = '\\u001b[35;1m'\n",
    "bright_cyan = '\\u001b[36;1m'\n",
    "bright_white = '\\u001b[37;1m'\n",
    "\n",
    "printcolored(black, end='\\t');      printcolored(bright_black)\n",
    "printcolored(red, end='\\t');        printcolored(bright_red)\n",
    "printcolored(green, end='\\t');      printcolored(bright_green)\n",
    "printcolored(yellow, end='\\t');     printcolored(bright_yellow)\n",
    "printcolored(blue, end='\\t');       printcolored(bright_blue)\n",
    "printcolored(magenta, end='\\t');    printcolored(bright_magenta)\n",
    "printcolored(cyan, end='\\t');       printcolored(bright_cyan)\n",
    "printcolored(white, end='\\t');      printcolored(bright_white)"
   ]
  },
  {
   "cell_type": "markdown",
   "id": "f3385b0b-4d1d-48f0-9cd0-9c04e62eec78",
   "metadata": {},
   "source": [
    "## 256 цветов\n",
    "\n",
    "Данный набор кодируется `\\u001b[38;5;{number}m`, где `number` — код цвета из набора, число от 0 до 255. "
   ]
  },
  {
   "cell_type": "code",
   "execution_count": 19,
   "id": "66e6d868-5434-4fa2-a075-ea2eb693b5b8",
   "metadata": {},
   "outputs": [
    {
     "name": "stdout",
     "output_type": "stream",
     "text": [
      "\u001b[38;5;0m0\u001b[0m\t\u001b[38;5;1m1\u001b[0m\t\u001b[38;5;2m2\u001b[0m\t\u001b[38;5;3m3\u001b[0m\t\u001b[38;5;4m4\u001b[0m\t\u001b[38;5;5m5\u001b[0m\t\u001b[38;5;6m6\u001b[0m\t\u001b[38;5;7m7\u001b[0m\t\u001b[38;5;8m8\u001b[0m\t\u001b[38;5;9m9\u001b[0m\t\u001b[38;5;10m10\u001b[0m\t\u001b[38;5;11m11\u001b[0m\t\u001b[38;5;12m12\u001b[0m\t\u001b[38;5;13m13\u001b[0m\t\u001b[38;5;14m14\u001b[0m\t\u001b[38;5;15m15\u001b[0m\t\n",
      "\u001b[38;5;16m16\u001b[0m\t\u001b[38;5;17m17\u001b[0m\t\u001b[38;5;18m18\u001b[0m\t\u001b[38;5;19m19\u001b[0m\t\u001b[38;5;20m20\u001b[0m\t\u001b[38;5;21m21\u001b[0m\t\u001b[38;5;22m22\u001b[0m\t\u001b[38;5;23m23\u001b[0m\t\u001b[38;5;24m24\u001b[0m\t\u001b[38;5;25m25\u001b[0m\t\u001b[38;5;26m26\u001b[0m\t\u001b[38;5;27m27\u001b[0m\t\u001b[38;5;28m28\u001b[0m\t\u001b[38;5;29m29\u001b[0m\t\u001b[38;5;30m30\u001b[0m\t\u001b[38;5;31m31\u001b[0m\t\n",
      "\u001b[38;5;32m32\u001b[0m\t\u001b[38;5;33m33\u001b[0m\t\u001b[38;5;34m34\u001b[0m\t\u001b[38;5;35m35\u001b[0m\t\u001b[38;5;36m36\u001b[0m\t\u001b[38;5;37m37\u001b[0m\t\u001b[38;5;38m38\u001b[0m\t\u001b[38;5;39m39\u001b[0m\t\u001b[38;5;40m40\u001b[0m\t\u001b[38;5;41m41\u001b[0m\t\u001b[38;5;42m42\u001b[0m\t\u001b[38;5;43m43\u001b[0m\t\u001b[38;5;44m44\u001b[0m\t\u001b[38;5;45m45\u001b[0m\t\u001b[38;5;46m46\u001b[0m\t\u001b[38;5;47m47\u001b[0m\t\n",
      "\u001b[38;5;48m48\u001b[0m\t\u001b[38;5;49m49\u001b[0m\t\u001b[38;5;50m50\u001b[0m\t\u001b[38;5;51m51\u001b[0m\t\u001b[38;5;52m52\u001b[0m\t\u001b[38;5;53m53\u001b[0m\t\u001b[38;5;54m54\u001b[0m\t\u001b[38;5;55m55\u001b[0m\t\u001b[38;5;56m56\u001b[0m\t\u001b[38;5;57m57\u001b[0m\t\u001b[38;5;58m58\u001b[0m\t\u001b[38;5;59m59\u001b[0m\t\u001b[38;5;60m60\u001b[0m\t\u001b[38;5;61m61\u001b[0m\t\u001b[38;5;62m62\u001b[0m\t\u001b[38;5;63m63\u001b[0m\t\n",
      "\u001b[38;5;64m64\u001b[0m\t\u001b[38;5;65m65\u001b[0m\t\u001b[38;5;66m66\u001b[0m\t\u001b[38;5;67m67\u001b[0m\t\u001b[38;5;68m68\u001b[0m\t\u001b[38;5;69m69\u001b[0m\t\u001b[38;5;70m70\u001b[0m\t\u001b[38;5;71m71\u001b[0m\t\u001b[38;5;72m72\u001b[0m\t\u001b[38;5;73m73\u001b[0m\t\u001b[38;5;74m74\u001b[0m\t\u001b[38;5;75m75\u001b[0m\t\u001b[38;5;76m76\u001b[0m\t\u001b[38;5;77m77\u001b[0m\t\u001b[38;5;78m78\u001b[0m\t\u001b[38;5;79m79\u001b[0m\t\n",
      "\u001b[38;5;80m80\u001b[0m\t\u001b[38;5;81m81\u001b[0m\t\u001b[38;5;82m82\u001b[0m\t\u001b[38;5;83m83\u001b[0m\t\u001b[38;5;84m84\u001b[0m\t\u001b[38;5;85m85\u001b[0m\t\u001b[38;5;86m86\u001b[0m\t\u001b[38;5;87m87\u001b[0m\t\u001b[38;5;88m88\u001b[0m\t\u001b[38;5;89m89\u001b[0m\t\u001b[38;5;90m90\u001b[0m\t\u001b[38;5;91m91\u001b[0m\t\u001b[38;5;92m92\u001b[0m\t\u001b[38;5;93m93\u001b[0m\t\u001b[38;5;94m94\u001b[0m\t\u001b[38;5;95m95\u001b[0m\t\n",
      "\u001b[38;5;96m96\u001b[0m\t\u001b[38;5;97m97\u001b[0m\t\u001b[38;5;98m98\u001b[0m\t\u001b[38;5;99m99\u001b[0m\t\u001b[38;5;100m100\u001b[0m\t\u001b[38;5;101m101\u001b[0m\t\u001b[38;5;102m102\u001b[0m\t\u001b[38;5;103m103\u001b[0m\t\u001b[38;5;104m104\u001b[0m\t\u001b[38;5;105m105\u001b[0m\t\u001b[38;5;106m106\u001b[0m\t\u001b[38;5;107m107\u001b[0m\t\u001b[38;5;108m108\u001b[0m\t\u001b[38;5;109m109\u001b[0m\t\u001b[38;5;110m110\u001b[0m\t\u001b[38;5;111m111\u001b[0m\t\n",
      "\u001b[38;5;112m112\u001b[0m\t\u001b[38;5;113m113\u001b[0m\t\u001b[38;5;114m114\u001b[0m\t\u001b[38;5;115m115\u001b[0m\t\u001b[38;5;116m116\u001b[0m\t\u001b[38;5;117m117\u001b[0m\t\u001b[38;5;118m118\u001b[0m\t\u001b[38;5;119m119\u001b[0m\t\u001b[38;5;120m120\u001b[0m\t\u001b[38;5;121m121\u001b[0m\t\u001b[38;5;122m122\u001b[0m\t\u001b[38;5;123m123\u001b[0m\t\u001b[38;5;124m124\u001b[0m\t\u001b[38;5;125m125\u001b[0m\t\u001b[38;5;126m126\u001b[0m\t\u001b[38;5;127m127\u001b[0m\t\n",
      "\u001b[38;5;128m128\u001b[0m\t\u001b[38;5;129m129\u001b[0m\t\u001b[38;5;130m130\u001b[0m\t\u001b[38;5;131m131\u001b[0m\t\u001b[38;5;132m132\u001b[0m\t\u001b[38;5;133m133\u001b[0m\t\u001b[38;5;134m134\u001b[0m\t\u001b[38;5;135m135\u001b[0m\t\u001b[38;5;136m136\u001b[0m\t\u001b[38;5;137m137\u001b[0m\t\u001b[38;5;138m138\u001b[0m\t\u001b[38;5;139m139\u001b[0m\t\u001b[38;5;140m140\u001b[0m\t\u001b[38;5;141m141\u001b[0m\t\u001b[38;5;142m142\u001b[0m\t\u001b[38;5;143m143\u001b[0m\t\n",
      "\u001b[38;5;144m144\u001b[0m\t\u001b[38;5;145m145\u001b[0m\t\u001b[38;5;146m146\u001b[0m\t\u001b[38;5;147m147\u001b[0m\t\u001b[38;5;148m148\u001b[0m\t\u001b[38;5;149m149\u001b[0m\t\u001b[38;5;150m150\u001b[0m\t\u001b[38;5;151m151\u001b[0m\t\u001b[38;5;152m152\u001b[0m\t\u001b[38;5;153m153\u001b[0m\t\u001b[38;5;154m154\u001b[0m\t\u001b[38;5;155m155\u001b[0m\t\u001b[38;5;156m156\u001b[0m\t\u001b[38;5;157m157\u001b[0m\t\u001b[38;5;158m158\u001b[0m\t\u001b[38;5;159m159\u001b[0m\t\n",
      "\u001b[38;5;160m160\u001b[0m\t\u001b[38;5;161m161\u001b[0m\t\u001b[38;5;162m162\u001b[0m\t\u001b[38;5;163m163\u001b[0m\t\u001b[38;5;164m164\u001b[0m\t\u001b[38;5;165m165\u001b[0m\t\u001b[38;5;166m166\u001b[0m\t\u001b[38;5;167m167\u001b[0m\t\u001b[38;5;168m168\u001b[0m\t\u001b[38;5;169m169\u001b[0m\t\u001b[38;5;170m170\u001b[0m\t\u001b[38;5;171m171\u001b[0m\t\u001b[38;5;172m172\u001b[0m\t\u001b[38;5;173m173\u001b[0m\t\u001b[38;5;174m174\u001b[0m\t\u001b[38;5;175m175\u001b[0m\t\n",
      "\u001b[38;5;176m176\u001b[0m\t\u001b[38;5;177m177\u001b[0m\t\u001b[38;5;178m178\u001b[0m\t\u001b[38;5;179m179\u001b[0m\t\u001b[38;5;180m180\u001b[0m\t\u001b[38;5;181m181\u001b[0m\t\u001b[38;5;182m182\u001b[0m\t\u001b[38;5;183m183\u001b[0m\t\u001b[38;5;184m184\u001b[0m\t\u001b[38;5;185m185\u001b[0m\t\u001b[38;5;186m186\u001b[0m\t\u001b[38;5;187m187\u001b[0m\t\u001b[38;5;188m188\u001b[0m\t\u001b[38;5;189m189\u001b[0m\t\u001b[38;5;190m190\u001b[0m\t\u001b[38;5;191m191\u001b[0m\t\n",
      "\u001b[38;5;192m192\u001b[0m\t\u001b[38;5;193m193\u001b[0m\t\u001b[38;5;194m194\u001b[0m\t\u001b[38;5;195m195\u001b[0m\t\u001b[38;5;196m196\u001b[0m\t\u001b[38;5;197m197\u001b[0m\t\u001b[38;5;198m198\u001b[0m\t\u001b[38;5;199m199\u001b[0m\t\u001b[38;5;200m200\u001b[0m\t\u001b[38;5;201m201\u001b[0m\t\u001b[38;5;202m202\u001b[0m\t\u001b[38;5;203m203\u001b[0m\t\u001b[38;5;204m204\u001b[0m\t\u001b[38;5;205m205\u001b[0m\t\u001b[38;5;206m206\u001b[0m\t\u001b[38;5;207m207\u001b[0m\t\n",
      "\u001b[38;5;208m208\u001b[0m\t\u001b[38;5;209m209\u001b[0m\t\u001b[38;5;210m210\u001b[0m\t\u001b[38;5;211m211\u001b[0m\t\u001b[38;5;212m212\u001b[0m\t\u001b[38;5;213m213\u001b[0m\t\u001b[38;5;214m214\u001b[0m\t\u001b[38;5;215m215\u001b[0m\t\u001b[38;5;216m216\u001b[0m\t\u001b[38;5;217m217\u001b[0m\t\u001b[38;5;218m218\u001b[0m\t\u001b[38;5;219m219\u001b[0m\t\u001b[38;5;220m220\u001b[0m\t\u001b[38;5;221m221\u001b[0m\t\u001b[38;5;222m222\u001b[0m\t\u001b[38;5;223m223\u001b[0m\t\n",
      "\u001b[38;5;224m224\u001b[0m\t\u001b[38;5;225m225\u001b[0m\t\u001b[38;5;226m226\u001b[0m\t\u001b[38;5;227m227\u001b[0m\t\u001b[38;5;228m228\u001b[0m\t\u001b[38;5;229m229\u001b[0m\t\u001b[38;5;230m230\u001b[0m\t\u001b[38;5;231m231\u001b[0m\t\u001b[38;5;232m232\u001b[0m\t\u001b[38;5;233m233\u001b[0m\t\u001b[38;5;234m234\u001b[0m\t\u001b[38;5;235m235\u001b[0m\t\u001b[38;5;236m236\u001b[0m\t\u001b[38;5;237m237\u001b[0m\t\u001b[38;5;238m238\u001b[0m\t\u001b[38;5;239m239\u001b[0m\t\n",
      "\u001b[38;5;240m240\u001b[0m\t\u001b[38;5;241m241\u001b[0m\t\u001b[38;5;242m242\u001b[0m\t\u001b[38;5;243m243\u001b[0m\t\u001b[38;5;244m244\u001b[0m\t\u001b[38;5;245m245\u001b[0m\t\u001b[38;5;246m246\u001b[0m\t\u001b[38;5;247m247\u001b[0m\t\u001b[38;5;248m248\u001b[0m\t\u001b[38;5;249m249\u001b[0m\t\u001b[38;5;250m250\u001b[0m\t\u001b[38;5;251m251\u001b[0m\t\u001b[38;5;252m252\u001b[0m\t\u001b[38;5;253m253\u001b[0m\t\u001b[38;5;254m254\u001b[0m\t\u001b[38;5;255m255\u001b[0m\t\n"
     ]
    }
   ],
   "source": [
    "for i in range(16):\n",
    "    for j in range(16):\n",
    "        index = j + i*16\n",
    "        code256 = \"\\u001b[38;5;{}m\".format(index)\n",
    "        printcolored(code256, text=j + i*16, end='\\t')\n",
    "    print()"
   ]
  },
  {
   "cell_type": "markdown",
   "id": "cfb0a1f3-ee94-480a-a347-69dc5328604f",
   "metadata": {},
   "source": [
    "## Цвета фона\n",
    "\n",
    "Набор ANSI кодов включает и цвет фона. Наборов два: 8 и 256. Строятся они аналогично наборам цвета текста.\n",
    "\n",
    "Ниже пример."
   ]
  },
  {
   "cell_type": "code",
   "execution_count": 20,
   "id": "57f14759-0e0d-4520-b526-f7130cf4a45a",
   "metadata": {},
   "outputs": [
    {
     "name": "stdout",
     "output_type": "stream",
     "text": [
      "\u001b[40m\u001b[37mБелый текст на чёрном фоне\n",
      "\u001b[33mЖёлтый текст на том же фоне\u001b[0m\n"
     ]
    }
   ],
   "source": [
    "reset = '\\u001b[0m'\n",
    "bckgnd_black = '\\u001b[40m'\n",
    "print(bckgnd_black, white, \"Белый текст на чёрном фоне\", sep='')  # reset не сделан!\n",
    "print(yellow, \"Жёлтый текст на том же фоне\", reset, sep='')"
   ]
  },
  {
   "cell_type": "markdown",
   "id": "7e9b74e6-05cf-4da4-b9c6-70a0f4435f89",
   "metadata": {},
   "source": [
    "## Декорирование\n",
    "\n",
    "Помимо цвета текста и его фона есть декорирование.\n",
    "\n",
    "Оно включает\n",
    "\n",
    "- жирный текст;\n",
    "- подчёркивание текста;\n",
    "- инвертирование цвета текста с цветом фона."
   ]
  },
  {
   "cell_type": "code",
   "execution_count": 25,
   "id": "5c378174-5065-4715-818d-311b6c98ed49",
   "metadata": {},
   "outputs": [
    {
     "name": "stdout",
     "output_type": "stream",
     "text": [
      "\u001b[1mцветной текст\u001b[0m\t\u001b[4mцветной текст\u001b[0m\t\u001b[7mцветной текст\u001b[0m\n"
     ]
    }
   ],
   "source": [
    "decor_bold = '\\u001b[1m'\n",
    "decor_underline = '\\u001b[4m'\n",
    "decor_reversed = '\\u001b[7m'\n",
    "\n",
    "printcolored(decor_bold, end='\\t')\n",
    "printcolored(decor_underline, end='\\t')\n",
    "printcolored(decor_reversed)"
   ]
  },
  {
   "cell_type": "markdown",
   "id": "0734ade0-234e-4274-9112-a7e839c9864b",
   "metadata": {},
   "source": [
    "Коды можно комбинировать между собой."
   ]
  },
  {
   "cell_type": "code",
   "execution_count": 22,
   "id": "ad24f6ef-b233-4dd8-980c-e58ebafbc894",
   "metadata": {},
   "outputs": [
    {
     "name": "stdout",
     "output_type": "stream",
     "text": [
      "\u001b[1m\u001b[4mцветной текст\u001b[0m\n",
      "\u001b[33mцветной текст\u001b[0m\n",
      "\u001b[7m\u001b[33mцветной текст\u001b[0m\n"
     ]
    }
   ],
   "source": [
    "printcolored(decor_bold + decor_underline)\n",
    "\n",
    "printcolored(yellow)\n",
    "printcolored(decor_reversed + yellow)"
   ]
  },
  {
   "cell_type": "markdown",
   "id": "62bc507b-9d7c-42bb-a4cd-b6b2f745b444",
   "metadata": {},
   "source": [
    "## Навигация курсора\n",
    "\n",
    "ANSI коды дают следующую навигацию, куда удобнее и шире, чем ASCII\n",
    "\n",
    "\n",
    "- вверх на `n` символов: `\\u001b[{n}A`\n",
    "- вниз на `n` символов: `\\u001b[{n}B`\n",
    "- вправо на `n` символов: `\\u001b[{n}C`\n",
    "- влево на `n` символов: `\\u001b[{n}D`\n",
    "\n",
    "На этой основе строятся текстовые пользовательские интерфейсы (TUI): `nano`, `vim`, `midnight commander`, `top`...\n",
    "Библиотека для создания таких интерфейсов — [ncurses](https://en.wikipedia.org/wiki/Ncurses), также использует ANSI последовательности.\n",
    "\n",
    "<img src=\"https://upload.wikimedia.org/wikipedia/commons/9/9b/Midnight_Commander_4.7.0.9_on_Ubuntu_11.04.png\" width=\"400\" alt=\"Midnight Commander\"/>"
   ]
  },
  {
   "cell_type": "markdown",
   "id": "52b3cf50-bb64-4c2b-a79e-10db23cb59dc",
   "metadata": {},
   "source": [
    "### Пример: полоса прогресса\n",
    "\n",
    "На этот раз сделаем полосу прогресса двустрочной!"
   ]
  },
  {
   "cell_type": "code",
   "execution_count": 26,
   "id": "c1c37f6d-44ee-41c7-a55a-886ccd8aed8c",
   "metadata": {},
   "outputs": [],
   "source": [
    "import time\n",
    "import sys\n",
    "\n",
    "def somework(i, duration=0.25):\n",
    "    time.sleep(duration)\n",
    "\n",
    "class ANSI:\n",
    "    reset = '\\u001b[0m'\n",
    "    red = '\\u001b[31m'\n",
    "    leftby = lambda n: '\\u001b[{}D'.format(n)"
   ]
  },
  {
   "cell_type": "code",
   "execution_count": 27,
   "id": "bbb9e558-f260-406f-9995-bc7c69b09a9a",
   "metadata": {},
   "outputs": [
    {
     "name": "stdout",
     "output_type": "stream",
     "text": [
      "\u001b[10D0\u001b[10D1\u001b[10D2\u001b[10D3\u001b[10D4\u001b[10D5\u001b[10D6\u001b[10D7\u001b[10D8\u001b[10D9\n"
     ]
    }
   ],
   "source": [
    "for i in range(10):\n",
    "    sys.stdout.write(ANSI.leftby(10))\n",
    "    sys.stdout.write(str(i))\n",
    "    sys.stdout.flush()\n",
    "    somework(i)\n",
    "print()"
   ]
  },
  {
   "cell_type": "markdown",
   "id": "9651e8a6-3155-4bcb-8553-cdf3fbea30a8",
   "metadata": {},
   "source": [
    "К сожалению, сам Jupyter не позволяет пользоваться навигацикй. Однако, в терминале всё работает.\n",
    "\n",
    "**MVE для вызова скрипта из терминала или Python REPL**"
   ]
  },
  {
   "cell_type": "markdown",
   "id": "d1dd7800-48a0-4d7a-b534-7145820a7e44",
   "metadata": {},
   "source": [
    "```python\n",
    "import time\n",
    "import sys\n",
    "\n",
    "\n",
    "def somework(i, duration=0.25):\n",
    "    time.sleep(duration)\n",
    "\n",
    "class ANSI:\n",
    "    reset = '\\u001b[0m'\n",
    "    red = '\\u001b[31m'\n",
    "    upby = lambda n: '\\u001b[{}A'.format(n)\n",
    "    downby = lambda n: '\\u001b[{}B'.format(n)\n",
    "    leftby = lambda n: '\\u001b[{}D'.format(n)\n",
    "\n",
    "\n",
    "def progress2line():\n",
    "    # Нам нужно две строки, одна есть, вторую оставим пока пустой\n",
    "    sys.stdout.write('\\n')\n",
    "\n",
    "    bar_total_len = 40\n",
    "    done_char = '■'  # U+25A0 'Black Square'\n",
    "    todo_char = ' '  # Space\n",
    "\n",
    "    work = range(543)\n",
    "    for job in work:\n",
    "        done_frac = round(job/len(work), ndigits=2)\n",
    "        todo_frac = 1 - done_frac\n",
    "\n",
    "        done_len = round(bar_total_len * done_frac)\n",
    "        todo_len = bar_total_len - done_len\n",
    "\n",
    "        # Встаём в самое начало (верхний левый угол)\n",
    "        sys.stdout.write(ANSI.leftby(100))  # Можно и поточнее посчитать сдвиг\n",
    "        sys.stdout.write(ANSI.upby(1))\n",
    "\n",
    "        sys.stdout.write(\"{:5.1f}%\".format(round(100*done_frac, ndigits=1)))\n",
    "\n",
    "        # Опускаемся в начало второй строки\n",
    "        sys.stdout.write(ANSI.leftby(100))\n",
    "        sys.stdout.write(ANSI.downby(1))\n",
    "        sys.stdout.write(\n",
    "            \"|{done}{todo}|\".format(\n",
    "                done=done_len*done_char,\n",
    "                todo=todo_len*todo_char\n",
    "            )\n",
    "        )\n",
    "        sys.stdout.flush()\n",
    "\n",
    "        somework(job, duration=0.01)\n",
    "    print()\n",
    "\n",
    "progress2line()\n",
    "\n",
    "```"
   ]
  }
 ],
 "metadata": {
  "kernelspec": {
   "display_name": "Python 3 (ipykernel)",
   "language": "python",
   "name": "python3"
  },
  "language_info": {
   "codemirror_mode": {
    "name": "ipython",
    "version": 3
   },
   "file_extension": ".py",
   "mimetype": "text/x-python",
   "name": "python",
   "nbconvert_exporter": "python",
   "pygments_lexer": "ipython3",
   "version": "3.8.5"
  }
 },
 "nbformat": 4,
 "nbformat_minor": 5
}
